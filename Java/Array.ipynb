{
 "cells": [
  {
   "cell_type": "markdown",
   "metadata": {},
   "source": [
    "# Arrays\n",
    "\n",
    "An array is a collection of variables of the same type.\n",
    "When you need to store a list of values, such as numbers, you can store them in an array, instead of declaring separate variables for each number.\n",
    "\n",
    "To declare an array, you need to define the type of the elements with square brackets."
   ]
  },
  {
   "cell_type": "code",
   "execution_count": 2,
   "metadata": {
    "vscode": {
     "languageId": "java"
    }
   },
   "outputs": [
    {
     "name": "stdout",
     "output_type": "stream",
     "text": [
      "[I@60d7b61b\n"
     ]
    }
   ],
   "source": [
    "int[ ] arr = new int[5];\n",
    "\n",
    "System.out.println(arr);"
   ]
  },
  {
   "cell_type": "code",
   "execution_count": 3,
   "metadata": {
    "vscode": {
     "languageId": "java"
    }
   },
   "outputs": [
    {
     "name": "stdout",
     "output_type": "stream",
     "text": [
      "[I@60d7b61b\n"
     ]
    }
   ],
   "source": [
    "arr[2] = 42;\n",
    "\n",
    "System.out.println(arr);"
   ]
  },
  {
   "cell_type": "code",
   "execution_count": 5,
   "metadata": {
    "vscode": {
     "languageId": "java"
    }
   },
   "outputs": [
    {
     "name": "stdout",
     "output_type": "stream",
     "text": [
      "C\n"
     ]
    }
   ],
   "source": [
    "String[ ] myNames = { \"A\", \"B\", \"C\", \"D\"};\n",
    "        System.out.println(myNames[2]);"
   ]
  },
  {
   "cell_type": "code",
   "execution_count": 14,
   "metadata": {
    "vscode": {
     "languageId": "java"
    }
   },
   "outputs": [
    {
     "name": "stdout",
     "output_type": "stream",
     "text": [
      "Monday\n",
      "Tuesday\n",
      "Wednesday\n",
      "Thursday\n",
      "Friday\n",
      "Saturday\n",
      "Sunday\n"
     ]
    }
   ],
   "source": [
    "String[ ] days = {\"Monday\", \"Tuesday\", \"Wednesday\", \"Thursday\", \"Friday\", \"Saturday\", \"Sunday\"};\n",
    "\n",
    "for (int i = 0; i <= 6; i++) {\n",
    "    System.out.println(days[i]);\n",
    "}"
   ]
  },
  {
   "cell_type": "code",
   "execution_count": 16,
   "metadata": {
    "vscode": {
     "languageId": "java"
    }
   },
   "outputs": [
    {
     "name": "stdout",
     "output_type": "stream",
     "text": [
      "6\n"
     ]
    }
   ],
   "source": [
    "int[ ] intArr = new int[6];\n",
    "System.out.println(intArr.length);"
   ]
  },
  {
   "cell_type": "code",
   "execution_count": 20,
   "metadata": {
    "vscode": {
     "languageId": "java"
    }
   },
   "outputs": [
    {
     "name": "stdout",
     "output_type": "stream",
     "text": [
      "58\n"
     ]
    }
   ],
   "source": [
    "int [ ] myArr = {6, 42, 3, 7};\n",
    "        int sum=0;\n",
    "        for(int x=0; x<myArr.length; x++) {\n",
    "            sum += myArr[x];\n",
    "        }\n",
    "        System.out.println(sum);\n",
    "    "
   ]
  },
  {
   "cell_type": "code",
   "execution_count": 32,
   "metadata": {
    "vscode": {
     "languageId": "java"
    }
   },
   "outputs": [
    {
     "name": "stdout",
     "output_type": "stream",
     "text": [
      "0\n"
     ]
    }
   ],
   "source": [
    "// Toma el primer valor ingresado en el scaner para validar la cantidad de repeticiones en el scaner: \n",
    "// Luego valida los divisibles por 4 y suma cada uno que cumpla la condicion\n",
    "Scanner scanner = new Scanner(System.in);\n",
    "      \n",
    "int length = scanner.nextInt();\n",
    "int[] array =  new int[length];\n",
    " for (int i = 0; i < length; i++) {\n",
    "    array[i] = scanner.nextInt();\n",
    " }\n",
    " int sum=0;\n",
    "    for (int i=0; i<length;i++)\n",
    "    {\n",
    "     if(array[i]%4==0){\n",
    "       sum+=array[i];\n",
    "     }\n",
    "    }\n",
    "\n",
    "\n",
    "System.out.println(sum);\n",
    "\n",
    "\n",
    "\n",
    "      \n",
    "   "
   ]
  },
  {
   "cell_type": "code",
   "execution_count": 34,
   "metadata": {
    "vscode": {
     "languageId": "java"
    }
   },
   "outputs": [
    {
     "name": "stdout",
     "output_type": "stream",
     "text": [
      "47.0\n"
     ]
    }
   ],
   "source": [
    "// Suma de lista decimales\n",
    "double sum = 0.0;\n",
    "double myArray[] = {2.5, 4.1, 18.1, 22.3};\n",
    "for (int x = 0; x < 4; x++) {\n",
    " sum += myArray[x];\n",
    "}\n",
    "\n",
    "System.out.println(sum);"
   ]
  },
  {
   "cell_type": "markdown",
   "metadata": {},
   "source": [
    "# Enhanced for Loop\n",
    "The enhanced for loop (sometimes called a \"for each\" loop) is used to traverse elements in arrays.\n",
    "The advantages are that it eliminates the possibility of bugs and makes the code easier to read."
   ]
  },
  {
   "cell_type": "code",
   "execution_count": 1,
   "metadata": {
    "vscode": {
     "languageId": "java"
    }
   },
   "outputs": [
    {
     "name": "stdout",
     "output_type": "stream",
     "text": [
      "2\n",
      "3\n",
      "5\n",
      "7\n"
     ]
    }
   ],
   "source": [
    "int[ ] primes = {2, 3, 5, 7};\n",
    "        \n",
    "        for (int t: primes) {\n",
    "            System.out.println(t); \n",
    "        }"
   ]
  },
  {
   "cell_type": "code",
   "execution_count": 5,
   "metadata": {
    "vscode": {
     "languageId": "java"
    }
   },
   "outputs": [
    {
     "name": "stdout",
     "output_type": "stream",
     "text": [
      "36\n",
      "9\n"
     ]
    }
   ],
   "source": [
    "int length = scanner.nextInt();\n",
    "int[] sides =  new int[length];\n",
    "for (int i = 0; i < length; i++) {\n",
    "    sides[i] = scanner.nextInt();\n",
    "       System.out.println(sides[i] * sides[i]);\n",
    "}"
   ]
  }
 ],
 "metadata": {
  "kernelspec": {
   "display_name": "Java",
   "language": "java",
   "name": "java"
  },
  "language_info": {
   "codemirror_mode": "java",
   "file_extension": ".jshell",
   "mimetype": "text/x-java-source",
   "name": "Java",
   "pygments_lexer": "java",
   "version": "18.0.1.1+2-6"
  },
  "orig_nbformat": 4,
  "vscode": {
   "interpreter": {
    "hash": "35ad21af2f1669bb4ea700a6de09c401bf30109bc04b8f1109b09048848d9555"
   }
  }
 },
 "nbformat": 4,
 "nbformat_minor": 2
}

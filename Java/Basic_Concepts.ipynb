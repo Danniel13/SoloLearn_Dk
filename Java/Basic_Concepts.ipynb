{
 "cells": [
  {
   "cell_type": "code",
   "execution_count": 2,
   "metadata": {
    "vscode": {
     "languageId": "java"
    }
   },
   "outputs": [
    {
     "name": "stdout",
     "output_type": "stream",
     "text": [
      "HWorld\n"
     ]
    }
   ],
   "source": [
    "\n",
    "    System.out.println(\"HWorld\");\n"
   ]
  },
  {
   "cell_type": "code",
   "execution_count": 3,
   "metadata": {
    "vscode": {
     "languageId": "java"
    }
   },
   "outputs": [
    {
     "name": "stdout",
     "output_type": "stream",
     "text": [
      "abcdef\n"
     ]
    }
   ],
   "source": [
    "var cadena1 = \"abcdef\";\n",
    "System.out.println(cadena1);"
   ]
  },
  {
   "cell_type": "markdown",
   "metadata": {},
   "source": [
    "# VALUES"
   ]
  },
  {
   "cell_type": "code",
   "execution_count": 1,
   "metadata": {
    "vscode": {
     "languageId": "java"
    }
   },
   "outputs": [
    {
     "name": "stdout",
     "output_type": "stream",
     "text": [
      "David\n",
      "42\n",
      "15.9\n",
      "Z\n",
      "true\n"
     ]
    }
   ],
   "source": [
    "\n",
    "  String name =\"David\";\n",
    "  int age = 42;\n",
    "  double score =15.9;\n",
    "  char group = 'Z';\n",
    "  boolean online = true;\n",
    "\n",
    "  System.out.println(name);\n",
    "  System.out.println(age);\n",
    "  System.out.println(score);\n",
    "  System.out.println(group);\n",
    "  System.out.println(online);"
   ]
  },
  {
   "cell_type": "markdown",
   "metadata": {},
   "source": [
    "# INPUT"
   ]
  },
  {
   "cell_type": "code",
   "execution_count": 2,
   "metadata": {
    "vscode": {
     "languageId": "java"
    }
   },
   "outputs": [
    {
     "name": "stdout",
     "output_type": "stream",
     "text": [
      "Ingrese la entrada: El input es: asd\n"
     ]
    }
   ],
   "source": [
    "System.out.print(\"Ingrese la entrada: \");  //Definición texto inicial para input\n",
    "Scanner myVar = new Scanner(System.in); //Definición cariable como input\n",
    "\n",
    "System.out.println(\"El input es: \" + myVar.nextLine()); //Impresión de input"
   ]
  },
  {
   "cell_type": "markdown",
   "metadata": {},
   "source": [
    "# Arithmetic operators\n",
    "\n",
    "- \\+ addition\n",
    "- \\- subtraction\n",
    "- \\* multiplication\n",
    "- / division\n",
    "- % modulo"
   ]
  },
  {
   "cell_type": "code",
   "execution_count": 6,
   "metadata": {
    "vscode": {
     "languageId": "java"
    }
   },
   "outputs": [
    {
     "name": "stdout",
     "output_type": "stream",
     "text": [
      "60\n",
      "126\n",
      "252\n"
     ]
    }
   ],
   "source": [
    "int sum1 = 50 + 10; \n",
    "int sum2 = sum1 + 66; \n",
    "int sum3 = sum2 + sum2;\n",
    "\n",
    "System.out.println(sum1);\n",
    "System.out.println(sum2);\n",
    "System.out.println(sum3);"
   ]
  },
  {
   "cell_type": "code",
   "execution_count": 7,
   "metadata": {
    "vscode": {
     "languageId": "java"
    }
   },
   "outputs": [
    {
     "name": "stdout",
     "output_type": "stream",
     "text": [
      "990\n",
      "985\n",
      "5\n"
     ]
    }
   ],
   "source": [
    "int sum1 = 1000 - 10;\n",
    "int sum2 = sum1 - 5;\n",
    "int sum3 = sum1 - sum2;\n",
    "System.out.println(sum1);\n",
    "System.out.println(sum2);\n",
    "System.out.println(sum3);"
   ]
  },
  {
   "cell_type": "code",
   "execution_count": 11,
   "metadata": {
    "vscode": {
     "languageId": "java"
    }
   },
   "outputs": [
    {
     "name": "stdout",
     "output_type": "stream",
     "text": [
      "87"
     ]
    }
   ],
   "source": [
    "int beer  = 64;\n",
    "        int whisky = 23;\n",
    "       //calculate the sum and output it\n",
    "    sum1 = beer + whisky;\n",
    "        System.out.print(sum1);"
   ]
  },
  {
   "cell_type": "code",
   "execution_count": 12,
   "metadata": {
    "vscode": {
     "languageId": "java"
    }
   },
   "outputs": [
    {
     "name": "stdout",
     "output_type": "stream",
     "text": [
      "2000\n",
      "20000\n",
      "40000000\n"
     ]
    }
   ],
   "source": [
    "int sum1 = 1000 * 2;\n",
    "int sum2 = sum1 * 10;\n",
    "int sum3 = sum1 * sum2;\n",
    "System.out.println(sum1);\n",
    "System.out.println(sum2);\n",
    "System.out.println(sum3);"
   ]
  },
  {
   "cell_type": "code",
   "execution_count": 13,
   "metadata": {
    "vscode": {
     "languageId": "java"
    }
   },
   "outputs": [
    {
     "name": "stdout",
     "output_type": "stream",
     "text": [
      "200\n",
      "100\n",
      "2\n"
     ]
    }
   ],
   "source": [
    "int sum1 = 1000 / 5;\n",
    "int sum2 = sum1 / 2;\n",
    "int sum3 = sum1 / sum2;\n",
    "System.out.println(sum1);\n",
    "System.out.println(sum2);\n",
    "System.out.println(sum3);"
   ]
  },
  {
   "cell_type": "code",
   "execution_count": 14,
   "metadata": {
    "vscode": {
     "languageId": "java"
    }
   },
   "outputs": [
    {
     "name": "stdout",
     "output_type": "stream",
     "text": [
      "3\n"
     ]
    }
   ],
   "source": [
    "int x = 15; int y = 4;\n",
    "int result = x / y;\n",
    "System.out.println(result);"
   ]
  },
  {
   "cell_type": "code",
   "execution_count": 15,
   "metadata": {
    "vscode": {
     "languageId": "java"
    }
   },
   "outputs": [
    {
     "name": "stdout",
     "output_type": "stream",
     "text": [
      "5\n"
     ]
    }
   ],
   "source": [
    "int value = 23;\n",
    "int res = value % 6;\n",
    "\n",
    "System.out.println(res);\n"
   ]
  },
  {
   "cell_type": "markdown",
   "metadata": {},
   "source": [
    "# Increment Operators\n",
    "An increment or decrement operator provides a more convenient and compact way to increase or decrease the value of a variable by one.\n",
    "For example, the statement x=x+1; can be simplified to ++x;\n",
    "Example:"
   ]
  },
  {
   "cell_type": "code",
   "execution_count": 20,
   "metadata": {
    "vscode": {
     "languageId": "java"
    }
   },
   "outputs": [
    {
     "name": "stdout",
     "output_type": "stream",
     "text": [
      "6\n"
     ]
    }
   ],
   "source": [
    "int test = 5;\n",
    "        ++test;\n",
    "        \n",
    "        System.out.println(test);\n",
    "    "
   ]
  },
  {
   "cell_type": "code",
   "execution_count": 21,
   "metadata": {
    "vscode": {
     "languageId": "java"
    }
   },
   "outputs": [
    {
     "name": "stdout",
     "output_type": "stream",
     "text": [
      "4\n"
     ]
    }
   ],
   "source": [
    "int test = 5;\n",
    "        --test; \n",
    "        \n",
    "        System.out.println(test);"
   ]
  },
  {
   "cell_type": "markdown",
   "metadata": {},
   "source": [
    "# Assignment operators\n"
   ]
  },
  {
   "cell_type": "code",
   "execution_count": 22,
   "metadata": {
    "vscode": {
     "languageId": "java"
    }
   },
   "outputs": [
    {
     "name": "stdout",
     "output_type": "stream",
     "text": [
      "12\n"
     ]
    }
   ],
   "source": [
    "int num1 = 4;\n",
    "        int num2 = 8;\n",
    "        num2 += num1;\n",
    "        \n",
    "        System.out.println(num2);"
   ]
  },
  {
   "cell_type": "code",
   "execution_count": 23,
   "metadata": {
    "vscode": {
     "languageId": "java"
    }
   },
   "outputs": [
    {
     "name": "stdout",
     "output_type": "stream",
     "text": [
      "4\n"
     ]
    }
   ],
   "source": [
    "int num1 = 4;\n",
    "int num2 = 8;\n",
    "num2 -= num1;\n",
    "\n",
    "System.out.println(num2);"
   ]
  },
  {
   "cell_type": "markdown",
   "metadata": {},
   "source": [
    "# Strings"
   ]
  },
  {
   "cell_type": "code",
   "execution_count": 1,
   "metadata": {
    "vscode": {
     "languageId": "java"
    }
   },
   "outputs": [
    {
     "name": "stdout",
     "output_type": "stream",
     "text": [
      "My name is David Williams\n"
     ]
    }
   ],
   "source": [
    "String firstName, lastName;\n",
    "firstName = \"David\";\n",
    "lastName = \"Williams\";\n",
    "\n",
    "System.out.println(\"My name is \" + firstName +\" \"+lastName);"
   ]
  }
 ],
 "metadata": {
  "kernelspec": {
   "display_name": "Java",
   "language": "java",
   "name": "java"
  },
  "language_info": {
   "codemirror_mode": "java",
   "file_extension": ".jshell",
   "mimetype": "text/x-java-source",
   "name": "Java",
   "pygments_lexer": "java",
   "version": "11.0.15+10"
  },
  "orig_nbformat": 4,
  "vscode": {
   "interpreter": {
    "hash": "35ad21af2f1669bb4ea700a6de09c401bf30109bc04b8f1109b09048848d9555"
   }
  }
 },
 "nbformat": 4,
 "nbformat_minor": 2
}

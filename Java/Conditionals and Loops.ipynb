{
 "cells": [
  {
   "cell_type": "code",
   "execution_count": 1,
   "metadata": {
    "vscode": {
     "languageId": "java"
    }
   },
   "outputs": [
    {
     "name": "stdout",
     "output_type": "stream",
     "text": [
      "yes\n"
     ]
    }
   ],
   "source": [
    " Scanner scanner = new Scanner(System.in);\n",
    "       int price = scanner.nextInt();\n",
    "       //complete the code\n",
    "       if (price <= 12000) {\n",
    "        System.out.println(\"yes\");\n",
    "           \n",
    "       }"
   ]
  },
  {
   "cell_type": "code",
   "execution_count": 2,
   "metadata": {
    "vscode": {
     "languageId": "java"
    }
   },
   "outputs": [
    {
     "name": "stdout",
     "output_type": "stream",
     "text": [
      "10\n"
     ]
    }
   ],
   "source": [
    "int x = 10;  int y = 5;\n",
    "\n",
    "if ( x > y ) {\n",
    "  System.out.println(x);\n",
    "}\n",
    "else{\n",
    "  System.out.println(y);\n",
    "}"
   ]
  },
  {
   "cell_type": "code",
   "execution_count": 1,
   "metadata": {
    "vscode": {
     "languageId": "java"
    }
   },
   "outputs": [
    {
     "name": "stdout",
     "output_type": "stream",
     "text": [
      "Welcome!\n"
     ]
    }
   ],
   "source": [
    "Integer age = 25;\n",
    "        if(age > 0) {\n",
    "            if(age > 16) {\n",
    "                System.out.println(\"Welcome!\");\n",
    "            } else {\n",
    "                System.out.println(\"Too Young\");\n",
    "            }\n",
    "        } else {\n",
    "            System.out.println(\"Error por que es menor que cero\");\n",
    "        }"
   ]
  },
  {
   "cell_type": "code",
   "execution_count": 2,
   "metadata": {
    "vscode": {
     "languageId": "java"
    }
   },
   "outputs": [
    {
     "name": "stdout",
     "output_type": "stream",
     "text": [
      "Gift card\n",
      "Gift card\n"
     ]
    }
   ],
   "source": [
    "/*The sales manager decided to give a gift card to the customers whose purchases total more than 15000. On top of this, the customers whose total purchase is above 30000 will receive a second gift card.\n",
    "You are given a program, which takes the purchase amount as input, and print \"Gift card\" if it is above 15000. */\n",
    "Scanner read = new Scanner(System.in);\n",
    "int purchases = read.nextInt();\n",
    "\n",
    "if(purchases > 15000){\n",
    " System.out.println(\"Gift card\");\n",
    " //complete the code\n",
    " if (purchases > 30000){\n",
    " System.out.println(\"Gift card\");\n",
    " }\n",
    " \n",
    " }"
   ]
  },
  {
   "cell_type": "code",
   "execution_count": 7,
   "metadata": {
    "vscode": {
     "languageId": "java"
    }
   },
   "outputs": [
    {
     "name": "stdout",
     "output_type": "stream",
     "text": [
      "Welcome!\n"
     ]
    }
   ],
   "source": [
    "int age = 25;\n",
    "if(age <= 0) {\n",
    "    System.out.println(\"Error\");\n",
    "} else if(age <= 16) {\n",
    "    System.out.println(\"Too Young\");\n",
    "} else if(age < 100) {\n",
    "    System.out.println(\"Welcome!\");\n",
    "} else {\n",
    "    System.out.println(\"Really?\");\n",
    "}"
   ]
  },
  {
   "cell_type": "markdown",
   "metadata": {},
   "source": [
    "# Logical Operator"
   ]
  },
  {
   "cell_type": "code",
   "execution_count": 8,
   "metadata": {
    "vscode": {
     "languageId": "java"
    }
   },
   "outputs": [
    {
     "name": "stdout",
     "output_type": "stream",
     "text": [
      "Welcome!\n"
     ]
    }
   ],
   "source": [
    "int age = 22;\n",
    "        int money = 800;\n",
    "        \n",
    "        if (age > 18) {\n",
    "            if (money > 500) {\n",
    "                System.out.println(\"Welcome!\");\n",
    "            }\n",
    "        }"
   ]
  },
  {
   "cell_type": "markdown",
   "metadata": {},
   "source": [
    "# However, using the AND logical operator (&&) is a better way:"
   ]
  },
  {
   "cell_type": "code",
   "execution_count": 9,
   "metadata": {
    "vscode": {
     "languageId": "java"
    }
   },
   "outputs": [
    {
     "name": "stdout",
     "output_type": "stream",
     "text": [
      "Welcome!\n"
     ]
    }
   ],
   "source": [
    "int age = 22;\n",
    "int money = 800;\n",
    "\n",
    "if (age > 18 && money > 500) {\n",
    "    System.out.println(\"Welcome!\");\n",
    "}"
   ]
  },
  {
   "cell_type": "code",
   "execution_count": null,
   "metadata": {
    "vscode": {
     "languageId": "java"
    }
   },
   "outputs": [],
   "source": [
    "/*\n",
    "/*You're a tour manager and need a program that will identify small countries.\n",
    "A country is considered small if its population is under 10000 and its area is under 10000 hectares.\n",
    "The given program takes population and area as input.\n",
    "\n",
    "Task\n",
    "Complete the program to output \"small country\" if both conditions are met. Don't output anything otherwise. */ */\n",
    "Scanner read = new Scanner(System.in);\n",
    "int population = read.nextInt();\n",
    "int area = read.nextInt();\n",
    " //Complete the code\n",
    " if (population < 10000 && area < 10000){\n",
    "    System.out.println(\"small country\");\n",
    " }"
   ]
  },
  {
   "cell_type": "markdown",
   "metadata": {},
   "source": [
    "# The OR Operator\n",
    "The OR operator (||) checks if any one of the conditions is true.\n",
    "The condition becomes true, if any one of the operands evaluates to true."
   ]
  },
  {
   "cell_type": "code",
   "execution_count": 10,
   "metadata": {
    "vscode": {
     "languageId": "java"
    }
   },
   "outputs": [
    {
     "name": "stdout",
     "output_type": "stream",
     "text": [
      "Welcome!\n"
     ]
    }
   ],
   "source": [
    "int age = 25;\n",
    "int money = 100;\n",
    "\n",
    "if (age > 18 || money > 500) {\n",
    "    System.out.println(\"Welcome!\");\n",
    "}"
   ]
  },
  {
   "cell_type": "markdown",
   "metadata": {},
   "source": [
    "# NOT:\n",
    "The NOT !) logical operator is used to reverse the logical state of its operand. If a condition is true, the NOT logical operator will make it false.\n",
    "Example:"
   ]
  },
  {
   "cell_type": "code",
   "execution_count": 13,
   "metadata": {
    "vscode": {
     "languageId": "java"
    }
   },
   "outputs": [
    {
     "name": "stdout",
     "output_type": "stream",
     "text": [
      "Welcome\n"
     ]
    }
   ],
   "source": [
    "int age = 25;\n",
    "if(!(age > 18)) {\n",
    "    System.out.println(\"Too Young\");\n",
    "} else {\n",
    "    System.out.println(\"Welcome\");\n",
    "}"
   ]
  },
  {
   "cell_type": "code",
   "execution_count": 14,
   "metadata": {
    "vscode": {
     "languageId": "java"
    }
   },
   "outputs": [
    {
     "name": "stdout",
     "output_type": "stream",
     "text": [
      "11\n"
     ]
    }
   ],
   "source": [
    "int a = 11; int b = 12;\n",
    "int c = 40;\n",
    "if (a > 100 || b > 3) {\n",
    "  System.out.println(a); \n",
    "} else {\n",
    "  System.out.println(c);\n",
    "}"
   ]
  },
  {
   "cell_type": "markdown",
   "metadata": {},
   "source": [
    "# The switch Statement\n",
    "A switch statement tests a variable for equality against a list of values. Each value is called a case, and the variable being switched on is checked for each case."
   ]
  },
  {
   "cell_type": "code",
   "execution_count": 16,
   "metadata": {
    "vscode": {
     "languageId": "java"
    }
   },
   "outputs": [],
   "source": [
    "int day = 3;\n",
    "switch(day) {\n",
    "    case 1:\n",
    "        System.out.println(\"Monday\");\n",
    "        break;\n",
    "    case 2:\n",
    "        System.out.println(\"Tuesday\");\n",
    "        break;\n",
    "    case 3:\n",
    "        System.out.println(\"Wednesday\");\n",
    "        break;\n",
    "}"
   ]
  },
  {
   "cell_type": "code",
   "execution_count": 17,
   "metadata": {
    "vscode": {
     "languageId": "java"
    }
   },
   "outputs": [
    {
     "name": "stdout",
     "output_type": "stream",
     "text": [
      "A\n"
     ]
    }
   ],
   "source": [
    "int x = 10;\n",
    "switch (x) {\n",
    "  case 10:\n",
    "    System.out.println(\"A\");\n",
    "    break;\n",
    "  case 20:\n",
    "    System.out.println(\"B\");\n",
    "    break; \n",
    "}"
   ]
  },
  {
   "cell_type": "markdown",
   "metadata": {},
   "source": [
    "# Default statement\n",
    "A switch statement can have an optional default case.\n",
    "The default case can be used for performing a task when none of the cases is matched."
   ]
  },
  {
   "cell_type": "code",
   "execution_count": 18,
   "metadata": {
    "vscode": {
     "languageId": "java"
    }
   },
   "outputs": [
    {
     "name": "stdout",
     "output_type": "stream",
     "text": [
      "Weekday\n"
     ]
    }
   ],
   "source": [
    "int day = 3;\n",
    "\n",
    "        switch(day) {\n",
    "            case 6:\n",
    "                System.out.println(\"Saturday\");\n",
    "                break;\n",
    "            case 7:\n",
    "                System.out.println(\"Sunday\");\n",
    "                break;\n",
    "            default:\n",
    "                System.out.println(\"Weekday\");\n",
    "        }"
   ]
  },
  {
   "cell_type": "code",
   "execution_count": null,
   "metadata": {
    "vscode": {
     "languageId": "java"
    }
   },
   "outputs": [],
   "source": [
    "Scanner scanner = new Scanner(System.in);\n",
    "       int emotion = scanner.nextInt();\n",
    "       /*\n",
    "       1 - \"You are happy!\"\n",
    "       2 - \"You are sad!\"\n",
    "       3 - \"You are angry!\"\n",
    "       4 - \"You are surprised!\"\n",
    "       other - \"Unknown emotion.\"\n",
    "       */\n",
    "       \n",
    "       // your code goes here\n",
    "       switch (emotion){\n",
    "       case 1:\n",
    "            System.out.println(\"You are happy!\");\n",
    "            break;\n",
    "       case 2:\n",
    "            System.out.println(\"You are sad!\");\n",
    "            break;\n",
    "       case 3:\n",
    "            System.out.println(\"You are angry!\");\n",
    "            break;\n",
    "       case 4:\n",
    "            System.out.println(\"You are surprised!\");\n",
    "            break;\n",
    "        \n",
    "       default:\n",
    "            System.out.println(\"Unknown emotion.\");\n",
    "            break;\n",
    "       }\n",
    "    \n",
    "       \n"
   ]
  },
  {
   "cell_type": "code",
   "execution_count": 2,
   "metadata": {
    "vscode": {
     "languageId": "java"
    }
   },
   "outputs": [
    {
     "name": "stdout",
     "output_type": "stream",
     "text": [
      "12\n"
     ]
    }
   ],
   "source": [
    "int a = 11; int b = 12; int c = 40;\n",
    "switch (a) {\n",
    " case 40:\n",
    "   System.out.println(b);\n",
    "   break;\n",
    " default:\n",
    "   System.out.println(c);\n",
    "}"
   ]
  },
  {
   "cell_type": "code",
   "execution_count": 1,
   "metadata": {
    "vscode": {
     "languageId": "java"
    }
   },
   "outputs": [
    {
     "name": "stdout",
     "output_type": "stream",
     "text": [
      "Invalid day\n"
     ]
    }
   ],
   "source": [
    "// The switch expression allows multiple comma-separated values per case and returns a value for the whole switch-case block.\n",
    "\n",
    "int day = 2;\n",
    "        String dayType  = switch(8) {\n",
    "          \n",
    "            case 1, 2, 3, 4, 5 -> \"Working day\";\n",
    "            case 6, 7 -> \"Weekend\";\n",
    "            default -> \"Invalid day\";\n",
    "            };\n",
    "        System.out.println(dayType);"
   ]
  },
  {
   "cell_type": "code",
   "execution_count": 2,
   "metadata": {
    "vscode": {
     "languageId": "java"
    }
   },
   "outputs": [
    {
     "name": "stdout",
     "output_type": "stream",
     "text": [
      "A\n"
     ]
    }
   ],
   "source": [
    "int x = 10;\n",
    "switch (x) {\n",
    "  case 10:\n",
    "    System.out.println(\"A\");\n",
    "    break;  \n",
    "  case 20:\n",
    "    System.out.println(\"B\");\n",
    "    break; \n",
    "\n",
    "}\n"
   ]
  },
  {
   "cell_type": "code",
   "execution_count": 3,
   "metadata": {
    "vscode": {
     "languageId": "java"
    }
   },
   "outputs": [
    {
     "name": "stdout",
     "output_type": "stream",
     "text": [
      "Working day\n"
     ]
    }
   ],
   "source": [
    "int day = 2;\n",
    "String dayType  = switch(day) {\n",
    "    case 1, 2, 3, 4, 5 -> \"Working day\";\n",
    "    case 6, 7 -> \"Weekend\";\n",
    "    default -> \"Invalid day\";\n",
    "    };\n",
    "System.out.println(dayType);"
   ]
  },
  {
   "cell_type": "code",
   "execution_count": 4,
   "metadata": {
    "vscode": {
     "languageId": "java"
    }
   },
   "outputs": [
    {
     "name": "stdout",
     "output_type": "stream",
     "text": [
      "Price to Expresso is: 15\n"
     ]
    }
   ],
   "source": [
    "String coffee = \"Expresso\";\n",
    "/*Definition value Coffee: \"Expresso or any other\"*/ \n",
    "int price =switch(coffee) {\n",
    "/* Switch uses value coffe*/ \n",
    "case \"Expresso\", \"Americano\"-> 15;\n",
    " /*Case1 with two possible values ->15 */ \n",
    "case \"Latte\", \"Macchiato\" -> 20; \n",
    "/*Case2 with two possible vales -> 20*/ \n",
    "default -> 0;\n",
    " /*Default 0*/\n",
    " };\n",
    "System.out.println(\"Price to \" + coffee + \" is: \" + price); /*Print with values*/"
   ]
  },
  {
   "cell_type": "markdown",
   "metadata": {},
   "source": [
    "# While Loops\n",
    "\n",
    "A loop statement allows to repeatedly execute a statement or group of statements.\n",
    "\n",
    "A while loop statement repeatedly executes a target statement as long as a given condition is true.\n"
   ]
  },
  {
   "cell_type": "code",
   "execution_count": 6,
   "metadata": {
    "vscode": {
     "languageId": "java"
    }
   },
   "outputs": [
    {
     "ename": "CompilationException",
     "evalue": "",
     "output_type": "error",
     "traceback": [
      "\u001b[1m\u001b[30m|   \u001b[1m\u001b[30m            x-\u001b[0m\u001b[1m\u001b[30m\u001b[41m\u001b[0m\u001b[1m\u001b[30m;\u001b[0m",
      "\u001b[1m\u001b[31millegal start of expression\u001b[0m",
      "",
      "\u001b[1m\u001b[30m|   \u001b[1m\u001b[30m            \u001b[0m\u001b[1m\u001b[30m\u001b[41mx-\u001b[0m\u001b[1m\u001b[30m;\u001b[0m",
      "\u001b[1m\u001b[31mnot a statement\u001b[0m",
      ""
     ]
    }
   ],
   "source": [
    "int x = 3;\n",
    "        while(x > 0) {\n",
    "            System.out.println(x);\n",
    "            x--;\n",
    "        }"
   ]
  },
  {
   "cell_type": "code",
   "execution_count": 18,
   "metadata": {
    "vscode": {
     "languageId": "java"
    }
   },
   "outputs": [
    {
     "name": "stdout",
     "output_type": "stream",
     "text": [
      "impresión!\n",
      "impresión!\n",
      "impresión!\n",
      "impresión!\n",
      "impresión!\n",
      "impresión!\n",
      "impresión!\n",
      "impresión!\n",
      "impresión!\n",
      "impresión!\n",
      "impresión!\n",
      "impresión!\n",
      "impresión!\n",
      "impresión!\n",
      "impresión!\n"
     ]
    }
   ],
   "source": [
    "int x = 0;\n",
    "while (x < 15){\n",
    "System.out.println(\"impresión!\");\n",
    "x++;\n",
    "}"
   ]
  },
  {
   "cell_type": "code",
   "execution_count": 19,
   "metadata": {
    "vscode": {
     "languageId": "java"
    }
   },
   "outputs": [
    {
     "name": "stdout",
     "output_type": "stream",
     "text": [
      "6\n",
      "7\n",
      "8\n",
      "9\n",
      "Loop ended\n"
     ]
    }
   ],
   "source": [
    "int x = 6;\n",
    "\n",
    "        while( x < 10 )\n",
    "        {\n",
    "            System.out.println(x);\n",
    "            x++;\n",
    "        }\n",
    "        System.out.println(\"Loop ended\");"
   ]
  },
  {
   "cell_type": "code",
   "execution_count": 28,
   "metadata": {
    "vscode": {
     "languageId": "java"
    }
   },
   "outputs": [
    {
     "name": "stdout",
     "output_type": "stream",
     "text": [
      "6\n"
     ]
    }
   ],
   "source": [
    "// Factorial\n",
    "\n",
    "\n",
    "Scanner scanner = new Scanner(System.in);\n",
    "Integer  number = scanner.nextInt();\n",
    "\n",
    "\n",
    "\n",
    "// int  number = scanner.nextInt();\n",
    "int fact = 1;\n",
    "Integer x= 1;\n",
    "while (x <= number)\n",
    "{\n",
    "  fact = fact * x;\n",
    "  ++x;\n",
    "  \n",
    "}\n",
    "System.out.println(fact);\n"
   ]
  },
  {
   "cell_type": "code",
   "execution_count": 2,
   "metadata": {
    "vscode": {
     "languageId": "java"
    }
   },
   "outputs": [
    {
     "name": "stdout",
     "output_type": "stream",
     "text": [
      "Hello\n",
      "Hello\n",
      "Hello\n",
      "Hello\n",
      "Hello\n"
     ]
    }
   ],
   "source": [
    "int x = 0;\n",
    "int y = 5;\n",
    "while (x < y) {\n",
    "  System.out.println(\"Hello\");\n",
    "  x++;\t\n",
    "}\n",
    "\n"
   ]
  },
  {
   "cell_type": "markdown",
   "metadata": {},
   "source": [
    "# FOR\n",
    "\n",
    "\n",
    "Another loop structure is the for loop. A for loop allows you to efficiently write a loop that needs to execute a specific number of times.\n",
    "\n",
    "### for (initialization; condition; increment/decrement) {  \n",
    "### statement(s)\n",
    "### }"
   ]
  },
  {
   "cell_type": "code",
   "execution_count": 16,
   "metadata": {
    "vscode": {
     "languageId": "java"
    }
   },
   "outputs": [
    {
     "name": "stdout",
     "output_type": "stream",
     "text": [
      "3\n",
      "6\n",
      "9\n",
      "12\n",
      "15\n",
      "18\n",
      "21\n",
      "24\n",
      "27\n",
      "30\n",
      "33\n",
      "36\n",
      "39\n",
      "42\n",
      "45\n",
      "48\n",
      "51\n",
      "54\n",
      "57\n",
      "60\n",
      "63\n",
      "66\n",
      "69\n",
      "72\n",
      "75\n",
      "78\n",
      "81\n",
      "84\n",
      "87\n",
      "90\n",
      "93\n",
      "96\n",
      "99\n",
      "102\n",
      "105\n",
      "108\n",
      "111\n",
      "114\n",
      "117\n",
      "120\n",
      "123\n",
      "126\n",
      "129\n",
      "132\n",
      "135\n",
      "138\n",
      "141\n",
      "144\n",
      "147\n",
      "150\n"
     ]
    }
   ],
   "source": [
    "//Numeros del 1 al 5\n",
    "for(int x = 1; x <=50; x++) \n",
    "  System.out.println(x*3);"
   ]
  }
 ],
 "metadata": {
  "kernelspec": {
   "display_name": "Java",
   "language": "java",
   "name": "java"
  },
  "language_info": {
   "codemirror_mode": "java",
   "file_extension": ".jshell",
   "mimetype": "text/x-java-source",
   "name": "Java",
   "pygments_lexer": "java",
   "version": "18.0.1.1+2-6"
  },
  "orig_nbformat": 4,
  "vscode": {
   "interpreter": {
    "hash": "ffa1133c21e95c04d090f84f5642658ed9c54c152275f940673cc7d4c15af7c2"
   }
  }
 },
 "nbformat": 4,
 "nbformat_minor": 2
}

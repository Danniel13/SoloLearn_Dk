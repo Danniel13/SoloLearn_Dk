{
 "cells": [
  {
   "cell_type": "code",
   "execution_count": 1,
   "metadata": {
    "vscode": {
     "languageId": "java"
    }
   },
   "outputs": [
    {
     "name": "stdout",
     "output_type": "stream",
     "text": [
      "yes\n"
     ]
    }
   ],
   "source": [
    " Scanner scanner = new Scanner(System.in);\n",
    "       int price = scanner.nextInt();\n",
    "       //complete the code\n",
    "       if (price <= 12000) {\n",
    "        System.out.println(\"yes\");\n",
    "           \n",
    "       }"
   ]
  },
  {
   "cell_type": "code",
   "execution_count": 2,
   "metadata": {
    "vscode": {
     "languageId": "java"
    }
   },
   "outputs": [
    {
     "name": "stdout",
     "output_type": "stream",
     "text": [
      "10\n"
     ]
    }
   ],
   "source": [
    "int x = 10;  int y = 5;\n",
    "\n",
    "if ( x > y ) {\n",
    "  System.out.println(x);\n",
    "}\n",
    "else{\n",
    "  System.out.println(y);\n",
    "}"
   ]
  }
 ],
 "metadata": {
  "kernelspec": {
   "display_name": "Java",
   "language": "java",
   "name": "java"
  },
  "language_info": {
   "codemirror_mode": "java",
   "file_extension": ".jshell",
   "mimetype": "text/x-java-source",
   "name": "Java",
   "pygments_lexer": "java",
   "version": "18.0.1.1+2-6"
  },
  "orig_nbformat": 4,
  "vscode": {
   "interpreter": {
    "hash": "35ad21af2f1669bb4ea700a6de09c401bf30109bc04b8f1109b09048848d9555"
   }
  }
 },
 "nbformat": 4,
 "nbformat_minor": 2
}

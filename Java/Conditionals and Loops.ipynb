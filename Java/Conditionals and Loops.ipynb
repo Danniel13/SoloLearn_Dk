{
 "cells": [
  {
   "cell_type": "code",
   "execution_count": 1,
   "metadata": {
    "vscode": {
     "languageId": "java"
    }
   },
   "outputs": [
    {
     "name": "stdout",
     "output_type": "stream",
     "text": [
      "yes\n"
     ]
    }
   ],
   "source": [
    " Scanner scanner = new Scanner(System.in);\n",
    "       int price = scanner.nextInt();\n",
    "       //complete the code\n",
    "       if (price <= 12000) {\n",
    "        System.out.println(\"yes\");\n",
    "           \n",
    "       }"
   ]
  },
  {
   "cell_type": "code",
   "execution_count": 2,
   "metadata": {
    "vscode": {
     "languageId": "java"
    }
   },
   "outputs": [
    {
     "name": "stdout",
     "output_type": "stream",
     "text": [
      "10\n"
     ]
    }
   ],
   "source": [
    "int x = 10;  int y = 5;\n",
    "\n",
    "if ( x > y ) {\n",
    "  System.out.println(x);\n",
    "}\n",
    "else{\n",
    "  System.out.println(y);\n",
    "}"
   ]
  },
  {
   "cell_type": "code",
   "execution_count": 1,
   "metadata": {
    "vscode": {
     "languageId": "java"
    }
   },
   "outputs": [
    {
     "name": "stdout",
     "output_type": "stream",
     "text": [
      "Welcome!\n"
     ]
    }
   ],
   "source": [
    "Integer age = 25;\n",
    "        if(age > 0) {\n",
    "            if(age > 16) {\n",
    "                System.out.println(\"Welcome!\");\n",
    "            } else {\n",
    "                System.out.println(\"Too Young\");\n",
    "            }\n",
    "        } else {\n",
    "            System.out.println(\"Error por que es menor que cero\");\n",
    "        }"
   ]
  },
  {
   "cell_type": "code",
   "execution_count": 2,
   "metadata": {
    "vscode": {
     "languageId": "java"
    }
   },
   "outputs": [
    {
     "name": "stdout",
     "output_type": "stream",
     "text": [
      "Gift card\n",
      "Gift card\n"
     ]
    }
   ],
   "source": [
    "/*The sales manager decided to give a gift card to the customers whose purchases total more than 15000. On top of this, the customers whose total purchase is above 30000 will receive a second gift card.\n",
    "You are given a program, which takes the purchase amount as input, and print \"Gift card\" if it is above 15000. */\n",
    "Scanner read = new Scanner(System.in);\n",
    "int purchases = read.nextInt();\n",
    "\n",
    "if(purchases > 15000){\n",
    " System.out.println(\"Gift card\");\n",
    " //complete the code\n",
    " if (purchases > 30000){\n",
    " System.out.println(\"Gift card\");\n",
    " }\n",
    " \n",
    " }"
   ]
  },
  {
   "cell_type": "code",
   "execution_count": 7,
   "metadata": {
    "vscode": {
     "languageId": "java"
    }
   },
   "outputs": [
    {
     "name": "stdout",
     "output_type": "stream",
     "text": [
      "Welcome!\n"
     ]
    }
   ],
   "source": [
    "int age = 25;\n",
    "if(age <= 0) {\n",
    "    System.out.println(\"Error\");\n",
    "} else if(age <= 16) {\n",
    "    System.out.println(\"Too Young\");\n",
    "} else if(age < 100) {\n",
    "    System.out.println(\"Welcome!\");\n",
    "} else {\n",
    "    System.out.println(\"Really?\");\n",
    "}"
   ]
  },
  {
   "cell_type": "markdown",
   "metadata": {},
   "source": [
    "# Logical Operator"
   ]
  },
  {
   "cell_type": "code",
   "execution_count": 8,
   "metadata": {
    "vscode": {
     "languageId": "java"
    }
   },
   "outputs": [
    {
     "name": "stdout",
     "output_type": "stream",
     "text": [
      "Welcome!\n"
     ]
    }
   ],
   "source": [
    "int age = 22;\n",
    "        int money = 800;\n",
    "        \n",
    "        if (age > 18) {\n",
    "            if (money > 500) {\n",
    "                System.out.println(\"Welcome!\");\n",
    "            }\n",
    "        }"
   ]
  },
  {
   "cell_type": "markdown",
   "metadata": {},
   "source": [
    "# However, using the AND logical operator (&&) is a better way:"
   ]
  },
  {
   "cell_type": "code",
   "execution_count": 9,
   "metadata": {
    "vscode": {
     "languageId": "java"
    }
   },
   "outputs": [
    {
     "name": "stdout",
     "output_type": "stream",
     "text": [
      "Welcome!\n"
     ]
    }
   ],
   "source": [
    "int age = 22;\n",
    "int money = 800;\n",
    "\n",
    "if (age > 18 && money > 500) {\n",
    "    System.out.println(\"Welcome!\");\n",
    "}"
   ]
  },
  {
   "cell_type": "code",
   "execution_count": null,
   "metadata": {
    "vscode": {
     "languageId": "java"
    }
   },
   "outputs": [],
   "source": [
    "/*\n",
    "/*You're a tour manager and need a program that will identify small countries.\n",
    "A country is considered small if its population is under 10000 and its area is under 10000 hectares.\n",
    "The given program takes population and area as input.\n",
    "\n",
    "Task\n",
    "Complete the program to output \"small country\" if both conditions are met. Don't output anything otherwise. */ */\n",
    "Scanner read = new Scanner(System.in);\n",
    "int population = read.nextInt();\n",
    "int area = read.nextInt();\n",
    " //Complete the code\n",
    " if (population < 10000 && area < 10000){\n",
    "    System.out.println(\"small country\");\n",
    " }"
   ]
  },
  {
   "cell_type": "markdown",
   "metadata": {},
   "source": [
    "# The OR Operator\n",
    "The OR operator (||) checks if any one of the conditions is true.\n",
    "The condition becomes true, if any one of the operands evaluates to true."
   ]
  },
  {
   "cell_type": "code",
   "execution_count": 10,
   "metadata": {
    "vscode": {
     "languageId": "java"
    }
   },
   "outputs": [
    {
     "name": "stdout",
     "output_type": "stream",
     "text": [
      "Welcome!\n"
     ]
    }
   ],
   "source": [
    "int age = 25;\n",
    "int money = 100;\n",
    "\n",
    "if (age > 18 || money > 500) {\n",
    "    System.out.println(\"Welcome!\");\n",
    "}"
   ]
  },
  {
   "cell_type": "markdown",
   "metadata": {},
   "source": [
    "# NOT:\n",
    "The NOT !) logical operator is used to reverse the logical state of its operand. If a condition is true, the NOT logical operator will make it false.\n",
    "Example:"
   ]
  },
  {
   "cell_type": "code",
   "execution_count": 13,
   "metadata": {
    "vscode": {
     "languageId": "java"
    }
   },
   "outputs": [
    {
     "name": "stdout",
     "output_type": "stream",
     "text": [
      "Welcome\n"
     ]
    }
   ],
   "source": [
    "int age = 25;\n",
    "if(!(age > 18)) {\n",
    "    System.out.println(\"Too Young\");\n",
    "} else {\n",
    "    System.out.println(\"Welcome\");\n",
    "}"
   ]
  },
  {
   "cell_type": "code",
   "execution_count": 14,
   "metadata": {
    "vscode": {
     "languageId": "java"
    }
   },
   "outputs": [
    {
     "name": "stdout",
     "output_type": "stream",
     "text": [
      "11\n"
     ]
    }
   ],
   "source": [
    "int a = 11; int b = 12;\n",
    "int c = 40;\n",
    "if (a > 100 || b > 3) {\n",
    "  System.out.println(a); \n",
    "} else {\n",
    "  System.out.println(c);\n",
    "}"
   ]
  },
  {
   "cell_type": "markdown",
   "metadata": {},
   "source": [
    "# The switch Statement\n",
    "A switch statement tests a variable for equality against a list of values. Each value is called a case, and the variable being switched on is checked for each case."
   ]
  },
  {
   "cell_type": "code",
   "execution_count": 16,
   "metadata": {
    "vscode": {
     "languageId": "java"
    }
   },
   "outputs": [],
   "source": [
    "int day = 3;\n",
    "switch(day) {\n",
    "    case 1:\n",
    "        System.out.println(\"Monday\");\n",
    "        break;\n",
    "    case 2:\n",
    "        System.out.println(\"Tuesday\");\n",
    "        break;\n",
    "    case 3:\n",
    "        System.out.println(\"Wednesday\");\n",
    "        break;\n",
    "}"
   ]
  },
  {
   "cell_type": "code",
   "execution_count": 17,
   "metadata": {
    "vscode": {
     "languageId": "java"
    }
   },
   "outputs": [
    {
     "name": "stdout",
     "output_type": "stream",
     "text": [
      "A\n"
     ]
    }
   ],
   "source": [
    "int x = 10;\n",
    "switch (x) {\n",
    "  case 10:\n",
    "    System.out.println(\"A\");\n",
    "    break;\n",
    "  case 20:\n",
    "    System.out.println(\"B\");\n",
    "    break; \n",
    "}"
   ]
  },
  {
   "cell_type": "markdown",
   "metadata": {},
   "source": [
    "# Default statement\n",
    "A switch statement can have an optional default case.\n",
    "The default case can be used for performing a task when none of the cases is matched."
   ]
  },
  {
   "cell_type": "code",
   "execution_count": 18,
   "metadata": {
    "vscode": {
     "languageId": "java"
    }
   },
   "outputs": [
    {
     "name": "stdout",
     "output_type": "stream",
     "text": [
      "Weekday\n"
     ]
    }
   ],
   "source": [
    "int day = 3;\n",
    "\n",
    "        switch(day) {\n",
    "            case 6:\n",
    "                System.out.println(\"Saturday\");\n",
    "                break;\n",
    "            case 7:\n",
    "                System.out.println(\"Sunday\");\n",
    "                break;\n",
    "            default:\n",
    "                System.out.println(\"Weekday\");\n",
    "        }"
   ]
  },
  {
   "cell_type": "code",
   "execution_count": null,
   "metadata": {
    "vscode": {
     "languageId": "java"
    }
   },
   "outputs": [],
   "source": [
    "Scanner scanner = new Scanner(System.in);\n",
    "       int emotion = scanner.nextInt();\n",
    "       /*\n",
    "       1 - \"You are happy!\"\n",
    "       2 - \"You are sad!\"\n",
    "       3 - \"You are angry!\"\n",
    "       4 - \"You are surprised!\"\n",
    "       other - \"Unknown emotion.\"\n",
    "       */\n",
    "       \n",
    "       // your code goes here\n",
    "       switch (emotion){\n",
    "       case 1:\n",
    "            System.out.println(\"You are happy!\");\n",
    "            break;\n",
    "       case 2:\n",
    "            System.out.println(\"You are sad!\");\n",
    "            break;\n",
    "       case 3:\n",
    "            System.out.println(\"You are angry!\");\n",
    "            break;\n",
    "       case 4:\n",
    "            System.out.println(\"You are surprised!\");\n",
    "            break;\n",
    "        \n",
    "       default:\n",
    "            System.out.println(\"Unknown emotion.\");\n",
    "            break;\n",
    "       }\n",
    "    \n",
    "       \n"
   ]
  }
 ],
 "metadata": {
  "kernelspec": {
   "display_name": "Java",
   "language": "java",
   "name": "java"
  },
  "language_info": {
   "codemirror_mode": "java",
   "file_extension": ".jshell",
   "mimetype": "text/x-java-source",
   "name": "Java",
   "pygments_lexer": "java",
   "version": "18.0.1.1+2-6"
  },
  "orig_nbformat": 4,
  "vscode": {
   "interpreter": {
    "hash": "35ad21af2f1669bb4ea700a6de09c401bf30109bc04b8f1109b09048848d9555"
   }
  }
 },
 "nbformat": 4,
 "nbformat_minor": 2
}

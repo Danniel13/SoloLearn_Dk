{
 "cells": [
  {
   "cell_type": "code",
   "execution_count": null,
   "metadata": {},
   "outputs": [],
   "source": []
  }
 ],
 "metadata": {
  "kernelspec": {
   "display_name": "Python 3.10.6 64-bit (windows store)",
   "language": "python",
   "name": "python3"
  },
  "language_info": {
   "name": "python",
   "version": "3.10.6"
  },
  "orig_nbformat": 4,
  "vscode": {
   "interpreter": {
    "hash": "35ad21af2f1669bb4ea700a6de09c401bf30109bc04b8f1109b09048848d9555"
   }
  }
 },
 "nbformat": 4,
 "nbformat_minor": 2
}

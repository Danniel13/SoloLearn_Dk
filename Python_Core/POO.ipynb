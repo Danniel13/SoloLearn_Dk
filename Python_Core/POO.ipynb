{
 "cells": [
  {
   "cell_type": "markdown",
   "metadata": {},
   "source": [
    "# CLASSES"
   ]
  },
  {
   "cell_type": "code",
   "execution_count": 1,
   "metadata": {},
   "outputs": [
    {
     "name": "stdout",
     "output_type": "stream",
     "text": [
      "ginger\n"
     ]
    }
   ],
   "source": [
    "class Cat:\n",
    "    def __init__(self, color, legs):\n",
    "        self.color = color\n",
    "        self.legs = legs\n",
    "\n",
    "felix = Cat(\"ginger\", 4)\n",
    "print(felix.color)"
   ]
  },
  {
   "cell_type": "code",
   "execution_count": 2,
   "metadata": {},
   "outputs": [
    {
     "name": "stdout",
     "output_type": "stream",
     "text": [
      "John says hi\n"
     ]
    }
   ],
   "source": [
    "class Student:\n",
    "    def __init__(self, name):\n",
    "        self.name = name\n",
    "    \n",
    "    def greet(self):\n",
    "        print(self.name+\" says hi\")\n",
    "\n",
    "obj = Student(\"John\")\n",
    "obj.greet()"
   ]
  },
  {
   "cell_type": "markdown",
   "metadata": {},
   "source": [
    "# Methods"
   ]
  },
  {
   "cell_type": "code",
   "execution_count": 3,
   "metadata": {},
   "outputs": [
    {
     "name": "stdout",
     "output_type": "stream",
     "text": [
      "4\n",
      "4\n"
     ]
    }
   ],
   "source": [
    "class Dog:\n",
    "    legs = 4\n",
    "    def __init__(self, name, color):\n",
    "        self.name = name\n",
    "        self.color = color\n",
    "\n",
    "fido = Dog(\"Fido\", \"brown\")\n",
    "print(fido.legs)\n",
    "print(Dog.legs)"
   ]
  },
  {
   "cell_type": "code",
   "execution_count": 5,
   "metadata": {},
   "outputs": [
    {
     "ename": "AttributeError",
     "evalue": "'Rectangle' object has no attribute 'color'",
     "output_type": "error",
     "traceback": [
      "\u001b[1;31m---------------------------------------------------------------------------\u001b[0m",
      "\u001b[1;31mAttributeError\u001b[0m                            Traceback (most recent call last)",
      "\u001b[1;32md:\\Users\\Danniel\\Documents\\D3r1ck\\Cursos\\Mision TIC 2022\\Programacion\\Repositorios Git\\SoloLearn_Dk\\Python_Core\\POO.ipynb Cell 6'\u001b[0m in \u001b[0;36m<cell line: 7>\u001b[1;34m()\u001b[0m\n\u001b[0;32m      <a href='vscode-notebook-cell:/d%3A/Users/Danniel/Documents/D3r1ck/Cursos/Mision%20TIC%202022/Programacion/Repositorios%20Git/SoloLearn_Dk/Python_Core/POO.ipynb#ch0000005?line=3'>4</a>\u001b[0m         \u001b[39mself\u001b[39m\u001b[39m.\u001b[39mheight \u001b[39m=\u001b[39m height\n\u001b[0;32m      <a href='vscode-notebook-cell:/d%3A/Users/Danniel/Documents/D3r1ck/Cursos/Mision%20TIC%202022/Programacion/Repositorios%20Git/SoloLearn_Dk/Python_Core/POO.ipynb#ch0000005?line=5'>6</a>\u001b[0m rect \u001b[39m=\u001b[39m Rectangle(\u001b[39m7\u001b[39m, \u001b[39m8\u001b[39m)\n\u001b[1;32m----> <a href='vscode-notebook-cell:/d%3A/Users/Danniel/Documents/D3r1ck/Cursos/Mision%20TIC%202022/Programacion/Repositorios%20Git/SoloLearn_Dk/Python_Core/POO.ipynb#ch0000005?line=6'>7</a>\u001b[0m \u001b[39mprint\u001b[39m(rect\u001b[39m.\u001b[39;49mcolor)\n",
      "\u001b[1;31mAttributeError\u001b[0m: 'Rectangle' object has no attribute 'color'"
     ]
    }
   ],
   "source": [
    "#\n",
    "#Trying to access an attribute of an instance that isn't defined causes an AttributeError. This also applies when you call an undefined method.\n",
    "\n",
    "class Rectangle: \n",
    "    def __init__(self, width, height):\n",
    "        self.width = width\n",
    "        self.height = height\n",
    "\n",
    "rect = Rectangle(7, 8)\n",
    "print(rect.color)"
   ]
  },
  {
   "cell_type": "code",
   "execution_count": 6,
   "metadata": {},
   "outputs": [
    {
     "name": "stdout",
     "output_type": "stream",
     "text": [
      "brown\n",
      "Woof!\n"
     ]
    }
   ],
   "source": [
    "class Animal: \n",
    "    def __init__(self, name, color):\n",
    "        self.name = name\n",
    "        self.color = color\n",
    "\n",
    "class Cat(Animal):\n",
    "    def purr(self):\n",
    "        print(\"Purr...\")\n",
    "        \n",
    "class Dog(Animal):\n",
    "    def bark(self):\n",
    "        print(\"Woof!\")\n",
    "\n",
    "fido = Dog(\"Fido\", \"brown\")\n",
    "print(fido.color)\n",
    "fido.bark()"
   ]
  },
  {
   "cell_type": "code",
   "execution_count": null,
   "metadata": {},
   "outputs": [],
   "source": [
    "#Complete the provided code to inherit the Car class from the Vehicle class, \n",
    "#create a Car object and call its horn() method, which is inherited from the Vehicle superclass.\n",
    "\n",
    "class Vehicle: \n",
    "    def horn(self):\n",
    "        print(\"Beep!\")\n",
    "\n",
    "class Car(Vehicle):\n",
    "    def __init__(self, name, color):\n",
    "        self.name = name\n",
    "        self.color = color\n",
    "\n",
    "obj = Car(\"BMW\", \"red\")\n",
    "obj.horn()"
   ]
  },
  {
   "cell_type": "code",
   "execution_count": 8,
   "metadata": {},
   "outputs": [
    {
     "name": "stdout",
     "output_type": "stream",
     "text": [
      "2\n"
     ]
    }
   ],
   "source": [
    "class A:\n",
    "  def a(self):\n",
    "    print(1)\n",
    "class B(A):\n",
    "  def a(self):\n",
    "    print(2)\n",
    "\t\n",
    "class C(B):\n",
    "  def c(self):\n",
    "    print(3)\n",
    "\t\t\n",
    "c = C()\n",
    "c.a()"
   ]
  },
  {
   "cell_type": "code",
   "execution_count": 9,
   "metadata": {},
   "outputs": [
    {
     "name": "stdout",
     "output_type": "stream",
     "text": [
      "2\n"
     ]
    }
   ],
   "source": [
    "class A:\n",
    "  def method(self):\n",
    "    print(1)\n",
    "\n",
    "class B(A):\n",
    "  def method(self):\n",
    "    print(2)\n",
    "\n",
    "B().method()"
   ]
  },
  {
   "cell_type": "code",
   "execution_count": 10,
   "metadata": {},
   "outputs": [
    {
     "name": "stdout",
     "output_type": "stream",
     "text": [
      "8\n",
      "16\n"
     ]
    }
   ],
   "source": [
    "class Vector2D:\n",
    "    def __init__(self, x, y):\n",
    "        self.x = x\n",
    "        self.y = y\n",
    "    def __add__(self, other):\n",
    "        return Vector2D(self.x + other.x, self.y + other.y)\n",
    "\n",
    "first = Vector2D(5, 7)\n",
    "second = Vector2D(3, 9)\n",
    "result = first + second\n",
    "print(result.x)\n",
    "print(result.y)"
   ]
  },
  {
   "cell_type": "code",
   "execution_count": 1,
   "metadata": {},
   "outputs": [],
   "source": [
    "a = 42  # Create object <42>\n",
    "b = a  # Increase ref. count  of <42> \n",
    "c = [a]  # Increase ref. count  of <42> \n",
    "\n",
    "del a  # Decrease ref. count  of <42>\n",
    "b = 100  # Decrease ref. count  of <42> \n",
    "c[0] = -1  # Decrease ref. count  of <42>"
   ]
  },
  {
   "cell_type": "code",
   "execution_count": 2,
   "metadata": {},
   "outputs": [
    {
     "name": "stdout",
     "output_type": "stream",
     "text": [
      "Queue([1, 2, 3])\n",
      "Queue([0, 1, 2, 3])\n",
      "Queue([0, 1, 2])\n",
      "[0, 1, 2]\n"
     ]
    }
   ],
   "source": [
    "class Queue:\n",
    "    def __init__(self, contents):\n",
    "        self._hiddenlist = list(contents)\n",
    "\n",
    "    def push(self, value):\n",
    "        self._hiddenlist.insert(0, value)\n",
    "\n",
    "    def pop(self):\n",
    "        return self._hiddenlist.pop(-1)\n",
    "\n",
    "    def __repr__(self):\n",
    "        return \"Queue({})\".format(self._hiddenlist)\n",
    "\n",
    "queue = Queue([1, 2, 3])\n",
    "print(queue)\n",
    "queue.push(0)\n",
    "print(queue)\n",
    "queue.pop()\n",
    "print(queue)\n",
    "print(queue._hiddenlist)"
   ]
  },
  {
   "cell_type": "code",
   "execution_count": 4,
   "metadata": {},
   "outputs": [
    {
     "name": "stdout",
     "output_type": "stream",
     "text": [
      "Account Balance: 60\n"
     ]
    }
   ],
   "source": [
    "class BankAccount:\n",
    "    def __init__(self, balance):\n",
    "        self._balance = balance\n",
    "\n",
    "    def __repr__(self):\n",
    "         return \"Account Balance: {}\".format(self._balance)\n",
    "    \n",
    "    def deposit(self, amount):\n",
    "        #your code goes here\n",
    "        self._balance +=amount\n",
    "acc = BankAccount(0)\n",
    "acc.deposit(int(input()))\n",
    "print(acc)\n"
   ]
  },
  {
   "cell_type": "code",
   "execution_count": 5,
   "metadata": {},
   "outputs": [
    {
     "name": "stdout",
     "output_type": "stream",
     "text": [
      "25\n"
     ]
    }
   ],
   "source": [
    "class Rectangle:\n",
    "    def __init__(self, width, height):\n",
    "        self.width = width\n",
    "        self.height = height\n",
    "\n",
    "    def calculate_area(self):\n",
    "        return self.width * self.height\n",
    "\n",
    "    @classmethod\n",
    "    def new_square(cls, side_length):\n",
    "        return cls(side_length, side_length)\n",
    "\n",
    "square = Rectangle.new_square(5)\n",
    "print(square.calculate_area())"
   ]
  },
  {
   "cell_type": "code",
   "execution_count": 6,
   "metadata": {},
   "outputs": [
    {
     "name": "stdout",
     "output_type": "stream",
     "text": [
      "100\n"
     ]
    }
   ],
   "source": [
    "#Suma de dos numeros a partir de clase\n",
    "\n",
    "class Calculator:\n",
    "    #your code goes here\n",
    "    @staticmethod\n",
    "    def add(a,b):\n",
    "        return a+b\n",
    "        \n",
    "n1 = int(input())\n",
    "n2 = int(input())\n",
    "\n",
    "print(Calculator.add(n1, n2))"
   ]
  },
  {
   "cell_type": "code",
   "execution_count": 7,
   "metadata": {},
   "outputs": [
    {
     "name": "stdout",
     "output_type": "stream",
     "text": [
      "False\n"
     ]
    },
    {
     "ename": "AttributeError",
     "evalue": "can't set attribute 'pineapple_allowed'",
     "output_type": "error",
     "traceback": [
      "\u001b[1;31m---------------------------------------------------------------------------\u001b[0m",
      "\u001b[1;31mAttributeError\u001b[0m                            Traceback (most recent call last)",
      "\u001b[1;32md:\\Users\\Danniel\\Documents\\D3r1ck\\Cursos\\Mision TIC 2022\\Programacion\\Repositorios Git\\SoloLearn_Dk\\Python_Core\\POO.ipynb Cell 17'\u001b[0m in \u001b[0;36m<cell line: 11>\u001b[1;34m()\u001b[0m\n\u001b[0;32m      <a href='vscode-notebook-cell:/d%3A/Users/Danniel/Documents/D3r1ck/Cursos/Mision%20TIC%202022/Programacion/Repositorios%20Git/SoloLearn_Dk/Python_Core/POO.ipynb#ch0000016?line=8'>9</a>\u001b[0m pizza \u001b[39m=\u001b[39m Pizza([\u001b[39m\"\u001b[39m\u001b[39mcheese\u001b[39m\u001b[39m\"\u001b[39m, \u001b[39m\"\u001b[39m\u001b[39mtomato\u001b[39m\u001b[39m\"\u001b[39m])\n\u001b[0;32m     <a href='vscode-notebook-cell:/d%3A/Users/Danniel/Documents/D3r1ck/Cursos/Mision%20TIC%202022/Programacion/Repositorios%20Git/SoloLearn_Dk/Python_Core/POO.ipynb#ch0000016?line=9'>10</a>\u001b[0m \u001b[39mprint\u001b[39m(pizza\u001b[39m.\u001b[39mpineapple_allowed)\n\u001b[1;32m---> <a href='vscode-notebook-cell:/d%3A/Users/Danniel/Documents/D3r1ck/Cursos/Mision%20TIC%202022/Programacion/Repositorios%20Git/SoloLearn_Dk/Python_Core/POO.ipynb#ch0000016?line=10'>11</a>\u001b[0m pizza\u001b[39m.\u001b[39mpineapple_allowed \u001b[39m=\u001b[39m \u001b[39mTrue\u001b[39;00m\n",
      "\u001b[1;31mAttributeError\u001b[0m: can't set attribute 'pineapple_allowed'"
     ]
    }
   ],
   "source": [
    "class Pizza:\n",
    "    def __init__(self, toppings):\n",
    "        self.toppings = toppings\n",
    "\n",
    "    @property\n",
    "    def pineapple_allowed(self):\n",
    "        return False\n",
    "\n",
    "pizza = Pizza([\"cheese\", \"tomato\"])\n",
    "print(pizza.pineapple_allowed)\n",
    "pizza.pineapple_allowed = True"
   ]
  },
  {
   "cell_type": "code",
   "execution_count": 10,
   "metadata": {},
   "outputs": [
    {
     "name": "stdout",
     "output_type": "stream",
     "text": [
      "True\n"
     ]
    }
   ],
   "source": [
    "#Evaluación de un numero para saber si es par\n",
    "\n",
    "class Number:\n",
    "    def __init__(self, num):\n",
    "        self.value = num\n",
    "        \n",
    "        \n",
    "    #your code goes here\n",
    "    @property\n",
    "    def isEven(self):\n",
    "      if self.value % 2 == 0:\n",
    "        return True\n",
    "      else:\n",
    "        return False\n",
    " \n",
    "x = Number(int(input()))\n",
    "print(x.isEven)"
   ]
  },
  {
   "cell_type": "code",
   "execution_count": 11,
   "metadata": {},
   "outputs": [
    {
     "name": "stdout",
     "output_type": "stream",
     "text": [
      "Unknown verb 50\n",
      "Unknown verb 50\n",
      "Unknown verb 50\n",
      "Unknown verb 50\n",
      "Unknown verb 50\n",
      "Unknown verb 50\n",
      "Unknown verb 50\n",
      "Unknown verb 50\n",
      "Unknown verb 50\n",
      "Unknown verb 50\n",
      "Unknown verb 50\n",
      "Unknown verb 50\n",
      "Unknown verb 50\n",
      "Unknown verb 50\n",
      "Unknown verb 50\n"
     ]
    },
    {
     "ename": "IndexError",
     "evalue": "list index out of range",
     "output_type": "error",
     "traceback": [
      "\u001b[1;31m---------------------------------------------------------------------------\u001b[0m",
      "\u001b[1;31mIndexError\u001b[0m                                Traceback (most recent call last)",
      "\u001b[1;32md:\\Users\\Danniel\\Documents\\D3r1ck\\Cursos\\Mision TIC 2022\\Programacion\\Repositorios Git\\SoloLearn_Dk\\Python_Core\\POO.ipynb Cell 19'\u001b[0m in \u001b[0;36m<cell line: 23>\u001b[1;34m()\u001b[0m\n\u001b[0;32m     <a href='vscode-notebook-cell:/d%3A/Users/Danniel/Documents/D3r1ck/Cursos/Mision%20TIC%202022/Programacion/Repositorios%20Git/SoloLearn_Dk/Python_Core/POO.ipynb#ch0000018?line=18'>19</a>\u001b[0m verb_dict \u001b[39m=\u001b[39m {\n\u001b[0;32m     <a href='vscode-notebook-cell:/d%3A/Users/Danniel/Documents/D3r1ck/Cursos/Mision%20TIC%202022/Programacion/Repositorios%20Git/SoloLearn_Dk/Python_Core/POO.ipynb#ch0000018?line=19'>20</a>\u001b[0m   \u001b[39m\"\u001b[39m\u001b[39msay\u001b[39m\u001b[39m\"\u001b[39m: say,\n\u001b[0;32m     <a href='vscode-notebook-cell:/d%3A/Users/Danniel/Documents/D3r1ck/Cursos/Mision%20TIC%202022/Programacion/Repositorios%20Git/SoloLearn_Dk/Python_Core/POO.ipynb#ch0000018?line=20'>21</a>\u001b[0m }\n\u001b[0;32m     <a href='vscode-notebook-cell:/d%3A/Users/Danniel/Documents/D3r1ck/Cursos/Mision%20TIC%202022/Programacion/Repositorios%20Git/SoloLearn_Dk/Python_Core/POO.ipynb#ch0000018?line=22'>23</a>\u001b[0m \u001b[39mwhile\u001b[39;00m \u001b[39mTrue\u001b[39;00m:\n\u001b[1;32m---> <a href='vscode-notebook-cell:/d%3A/Users/Danniel/Documents/D3r1ck/Cursos/Mision%20TIC%202022/Programacion/Repositorios%20Git/SoloLearn_Dk/Python_Core/POO.ipynb#ch0000018?line=23'>24</a>\u001b[0m   get_input()\n",
      "\u001b[1;32md:\\Users\\Danniel\\Documents\\D3r1ck\\Cursos\\Mision TIC 2022\\Programacion\\Repositorios Git\\SoloLearn_Dk\\Python_Core\\POO.ipynb Cell 19'\u001b[0m in \u001b[0;36mget_input\u001b[1;34m()\u001b[0m\n\u001b[0;32m      <a href='vscode-notebook-cell:/d%3A/Users/Danniel/Documents/D3r1ck/Cursos/Mision%20TIC%202022/Programacion/Repositorios%20Git/SoloLearn_Dk/Python_Core/POO.ipynb#ch0000018?line=0'>1</a>\u001b[0m \u001b[39mdef\u001b[39;00m \u001b[39mget_input\u001b[39m():\n\u001b[0;32m      <a href='vscode-notebook-cell:/d%3A/Users/Danniel/Documents/D3r1ck/Cursos/Mision%20TIC%202022/Programacion/Repositorios%20Git/SoloLearn_Dk/Python_Core/POO.ipynb#ch0000018?line=1'>2</a>\u001b[0m   command \u001b[39m=\u001b[39m \u001b[39minput\u001b[39m(\u001b[39m\"\u001b[39m\u001b[39m: \u001b[39m\u001b[39m\"\u001b[39m)\u001b[39m.\u001b[39msplit()\n\u001b[1;32m----> <a href='vscode-notebook-cell:/d%3A/Users/Danniel/Documents/D3r1ck/Cursos/Mision%20TIC%202022/Programacion/Repositorios%20Git/SoloLearn_Dk/Python_Core/POO.ipynb#ch0000018?line=2'>3</a>\u001b[0m   verb_word \u001b[39m=\u001b[39m command[\u001b[39m0\u001b[39;49m]\n\u001b[0;32m      <a href='vscode-notebook-cell:/d%3A/Users/Danniel/Documents/D3r1ck/Cursos/Mision%20TIC%202022/Programacion/Repositorios%20Git/SoloLearn_Dk/Python_Core/POO.ipynb#ch0000018?line=3'>4</a>\u001b[0m   \u001b[39mif\u001b[39;00m verb_word \u001b[39min\u001b[39;00m verb_dict:\n\u001b[0;32m      <a href='vscode-notebook-cell:/d%3A/Users/Danniel/Documents/D3r1ck/Cursos/Mision%20TIC%202022/Programacion/Repositorios%20Git/SoloLearn_Dk/Python_Core/POO.ipynb#ch0000018?line=4'>5</a>\u001b[0m     verb \u001b[39m=\u001b[39m verb_dict[verb_word]\n",
      "\u001b[1;31mIndexError\u001b[0m: list index out of range"
     ]
    }
   ],
   "source": [
    "def get_input():\n",
    "  command = input(\": \").split()\n",
    "  verb_word = command[0]\n",
    "  if verb_word in verb_dict:\n",
    "    verb = verb_dict[verb_word]\n",
    "  else:\n",
    "    print(\"Unknown verb {}\". format(verb_word))\n",
    "    return\n",
    "\n",
    "  if len(command) >= 2:\n",
    "    noun_word = command[1]\n",
    "    print (verb(noun_word))\n",
    "  else:\n",
    "    print(verb(\"nothing\"))\n",
    "\n",
    "def say(noun):\n",
    "  return 'You said \"{}\"'.format(noun)\n",
    "\n",
    "verb_dict = {\n",
    "  \"say\": say,\n",
    "}\n",
    "\n",
    "while True:\n",
    "  get_input()"
   ]
  }
 ],
 "metadata": {
  "kernelspec": {
   "display_name": "Python 3.10.5 64-bit (windows store)",
   "language": "python",
   "name": "python3"
  },
  "language_info": {
   "codemirror_mode": {
    "name": "ipython",
    "version": 3
   },
   "file_extension": ".py",
   "mimetype": "text/x-python",
   "name": "python",
   "nbconvert_exporter": "python",
   "pygments_lexer": "ipython3",
   "version": "3.10.5"
  },
  "orig_nbformat": 4,
  "vscode": {
   "interpreter": {
    "hash": "35ad21af2f1669bb4ea700a6de09c401bf30109bc04b8f1109b09048848d9555"
   }
  }
 },
 "nbformat": 4,
 "nbformat_minor": 2
}

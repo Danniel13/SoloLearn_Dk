{
 "cells": [
  {
   "cell_type": "markdown",
   "metadata": {},
   "source": [
    "# Various Practices in Python"
   ]
  },
  {
   "cell_type": "markdown",
   "metadata": {},
   "source": [
    "# OPERADOR **"
   ]
  },
  {
   "cell_type": "code",
   "execution_count": 1,
   "metadata": {},
   "outputs": [
    {
     "name": "stdout",
     "output_type": "stream",
     "text": [
      "3.0\n",
      "0.5\n"
     ]
    }
   ],
   "source": [
    "print(9 ** (1 / 2) )\n",
    "print(1/2)"
   ]
  },
  {
   "cell_type": "code",
   "execution_count": 3,
   "metadata": {},
   "outputs": [
    {
     "name": "stdout",
     "output_type": "stream",
     "text": [
      "0.3333333333333333\n",
      "1.8660659830736148\n"
     ]
    }
   ],
   "source": [
    "print(1/3)\n",
    "print(8** 0.3)"
   ]
  },
  {
   "cell_type": "markdown",
   "metadata": {},
   "source": [
    "# OPERADOR //"
   ]
  },
  {
   "cell_type": "code",
   "execution_count": 4,
   "metadata": {},
   "outputs": [
    {
     "name": "stdout",
     "output_type": "stream",
     "text": [
      "16.0\n",
      "16\n"
     ]
    }
   ],
   "source": [
    "print(80 / 5)\n",
    "print(80 // 5) #El doble // convierte el resultado de la división en un numero entero"
   ]
  },
  {
   "cell_type": "code",
   "execution_count": 7,
   "metadata": {},
   "outputs": [
    {
     "name": "stdout",
     "output_type": "stream",
     "text": [
      "<class 'float'>\n",
      "624.0\n"
     ]
    }
   ],
   "source": [
    "# Quotient//\n",
    "# Calculate and output the number of miles in 1000 kilometers.\n",
    "# Hint\n",
    "# One mile is 1.6 kilometers, so find the quotient of 1000 and 1.6.\n",
    "operanto = 1000//1.6\n",
    "print(type(operanto))\n",
    "print (operanto )"
   ]
  },
  {
   "cell_type": "markdown",
   "metadata": {},
   "source": [
    "# OPERADOR %: Residuo de la division"
   ]
  },
  {
   "cell_type": "code",
   "execution_count": 8,
   "metadata": {},
   "outputs": [
    {
     "name": "stdout",
     "output_type": "stream",
     "text": [
      "2\n",
      "0.25\n"
     ]
    }
   ],
   "source": [
    "print(20 % 6)\n",
    "\n",
    "print(1.25 % 0.5) "
   ]
  },
  {
   "cell_type": "code",
   "execution_count": 9,
   "metadata": {},
   "outputs": [
    {
     "name": "stdout",
     "output_type": "stream",
     "text": [
      "1\n"
     ]
    }
   ],
   "source": [
    "print( 7%(5 // 2) )"
   ]
  }
 ],
 "metadata": {
  "interpreter": {
   "hash": "ffa1133c21e95c04d090f84f5642658ed9c54c152275f940673cc7d4c15af7c2"
  },
  "kernelspec": {
   "display_name": "Python 3.10.2 64-bit",
   "language": "python",
   "name": "python3"
  },
  "language_info": {
   "codemirror_mode": {
    "name": "ipython",
    "version": 3
   },
   "file_extension": ".py",
   "mimetype": "text/x-python",
   "name": "python",
   "nbconvert_exporter": "python",
   "pygments_lexer": "ipython3",
   "version": "3.10.2"
  },
  "orig_nbformat": 4
 },
 "nbformat": 4,
 "nbformat_minor": 2
}

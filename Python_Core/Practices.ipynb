{
 "cells": [
  {
   "cell_type": "markdown",
   "metadata": {},
   "source": [
    "# Various Practices in Python"
   ]
  },
  {
   "cell_type": "markdown",
   "metadata": {},
   "source": [
    "# OPERADOR **"
   ]
  },
  {
   "cell_type": "code",
   "execution_count": 1,
   "metadata": {},
   "outputs": [
    {
     "name": "stdout",
     "output_type": "stream",
     "text": [
      "3.0\n",
      "0.5\n"
     ]
    }
   ],
   "source": [
    "print(9 ** (1 / 2) )\n",
    "print(1/2)"
   ]
  },
  {
   "cell_type": "code",
   "execution_count": 3,
   "metadata": {},
   "outputs": [
    {
     "name": "stdout",
     "output_type": "stream",
     "text": [
      "0.3333333333333333\n",
      "1.8660659830736148\n"
     ]
    }
   ],
   "source": [
    "print(1/3)\n",
    "print(8** 0.3)"
   ]
  },
  {
   "cell_type": "markdown",
   "metadata": {},
   "source": [
    "# OPERADOR //"
   ]
  },
  {
   "cell_type": "code",
   "execution_count": 4,
   "metadata": {},
   "outputs": [
    {
     "name": "stdout",
     "output_type": "stream",
     "text": [
      "16.0\n",
      "16\n"
     ]
    }
   ],
   "source": [
    "print(80 / 5)\n",
    "print(80 // 5) #El doble // convierte el resultado de la división en un numero entero"
   ]
  },
  {
   "cell_type": "code",
   "execution_count": 7,
   "metadata": {},
   "outputs": [
    {
     "name": "stdout",
     "output_type": "stream",
     "text": [
      "<class 'float'>\n",
      "624.0\n"
     ]
    }
   ],
   "source": [
    "# Quotient//\n",
    "# Calculate and output the number of miles in 1000 kilometers.\n",
    "# Hint\n",
    "# One mile is 1.6 kilometers, so find the quotient of 1000 and 1.6.\n",
    "operanto = 1000//1.6\n",
    "print(type(operanto))\n",
    "print (operanto )"
   ]
  },
  {
   "cell_type": "markdown",
   "metadata": {},
   "source": [
    "# OPERADOR %: Residuo de la division"
   ]
  },
  {
   "cell_type": "code",
   "execution_count": 8,
   "metadata": {},
   "outputs": [
    {
     "name": "stdout",
     "output_type": "stream",
     "text": [
      "2\n",
      "0.25\n"
     ]
    }
   ],
   "source": [
    "print(20 % 6)\n",
    "\n",
    "print(1.25 % 0.5) "
   ]
  },
  {
   "cell_type": "code",
   "execution_count": 9,
   "metadata": {},
   "outputs": [
    {
     "name": "stdout",
     "output_type": "stream",
     "text": [
      "1\n"
     ]
    }
   ],
   "source": [
    "print( 7%(5 // 2) )"
   ]
  },
  {
   "cell_type": "markdown",
   "metadata": {},
   "source": [
    "# Transformación de tipo de variable:\n"
   ]
  },
  {
   "cell_type": "code",
   "execution_count": 1,
   "metadata": {},
   "outputs": [
    {
     "name": "stdout",
     "output_type": "stream",
     "text": [
      "6\n"
     ]
    }
   ],
   "source": [
    "#Str a int\n",
    "x = \"2\"\n",
    "y = \"4\"\n",
    "z = int(x) + int(y)\n",
    "print(z)"
   ]
  },
  {
   "cell_type": "code",
   "execution_count": 5,
   "metadata": {},
   "outputs": [
    {
     "name": "stdout",
     "output_type": "stream",
     "text": [
      "holiholi\n"
     ]
    }
   ],
   "source": [
    "x = input()\n",
    "y = input()\n",
    "resultado= int(y)* x\n",
    "print(resultado)"
   ]
  },
  {
   "cell_type": "code",
   "execution_count": null,
   "metadata": {},
   "outputs": [],
   "source": [
    "x = input()\n",
    "y = int(input())\n",
    "\n",
    "print(y* x)"
   ]
  },
  {
   "cell_type": "markdown",
   "metadata": {},
   "source": [
    "# Reasignación de variables"
   ]
  },
  {
   "cell_type": "code",
   "execution_count": 6,
   "metadata": {},
   "outputs": [
    {
     "name": "stdout",
     "output_type": "stream",
     "text": [
      "aaa\n"
     ]
    }
   ],
   "source": [
    "x = \"a\"\n",
    "x *= 3\n",
    "print(x)\n",
    "\n"
   ]
  },
  {
   "cell_type": "code",
   "execution_count": 7,
   "metadata": {},
   "outputs": [
    {
     "name": "stdout",
     "output_type": "stream",
     "text": [
      "rtfdt\n"
     ]
    }
   ],
   "source": [
    "print(name:=  input())"
   ]
  },
  {
   "cell_type": "markdown",
   "metadata": {},
   "source": [
    "# WHILE"
   ]
  },
  {
   "cell_type": "code",
   "execution_count": null,
   "metadata": {},
   "outputs": [],
   "source": [
    "#numeros pares\n",
    "x=0\n",
    "while x <= 20:\n",
    "\tprint(\"the num is\", x)\n",
    "\tx+=2"
   ]
  },
  {
   "cell_type": "code",
   "execution_count": null,
   "metadata": {},
   "outputs": [],
   "source": [
    "while True:\n",
    "\tx=input(\"ingrese valor: \")\n",
    "\tif x ==\"0\":\n",
    "\t\tbreak"
   ]
  },
  {
   "cell_type": "code",
   "execution_count": null,
   "metadata": {},
   "outputs": [],
   "source": [
    "items = int(input())\n",
    "days = int(input())\n",
    "#your code goes here\n",
    "x=1\n",
    "while x <= days:\n",
    "    items*=2\n",
    "    x+=1\n",
    "print(items)"
   ]
  },
  {
   "cell_type": "code",
   "execution_count": 1,
   "metadata": {},
   "outputs": [
    {
     "name": "stdout",
     "output_type": "stream",
     "text": [
      "16\n"
     ]
    }
   ],
   "source": [
    "items = int(input())\n",
    "days = int(input())\n",
    "#your code goes here\n",
    "while days >0:\n",
    "    items*=2\n",
    "    days -=1\n",
    "print(items)"
   ]
  },
  {
   "cell_type": "code",
   "execution_count": 3,
   "metadata": {},
   "outputs": [
    {
     "name": "stdout",
     "output_type": "stream",
     "text": [
      "1\n",
      "4\n",
      "9\n",
      "[1, 2, 3]\n",
      "[1, 4, 9]\n"
     ]
    }
   ],
   "source": [
    "lista = [1,2,3]\n",
    "lista2 = []\n",
    "for i in lista:\n",
    "\tprint(i**2)\n",
    "\tlista2.append(i ** 2)\n",
    "print(lista)\n",
    "print(lista2)"
   ]
  },
  {
   "cell_type": "markdown",
   "metadata": {},
   "source": [
    "# FUNCIONES"
   ]
  },
  {
   "cell_type": "code",
   "execution_count": null,
   "metadata": {},
   "outputs": [],
   "source": [
    "#Conversión celsius a Fahrenheit\n",
    "\n",
    "celsius = int(input())\n",
    "\n",
    "def conv(c):\n",
    "    #your code goes here\n",
    "    return ((9/5) *c +32)\n",
    "    \n",
    "\n",
    "fahrenheit = conv(celsius)\n",
    "print(fahrenheit)"
   ]
  },
  {
   "cell_type": "code",
   "execution_count": 2,
   "metadata": {},
   "outputs": [
    {
     "name": "stdout",
     "output_type": "stream",
     "text": [
      "Correct\n"
     ]
    }
   ],
   "source": [
    "#Creación de contraseña repitiendo el campo:\n",
    "password = input()\n",
    "repeat = input()\n",
    "\n",
    "def validate(text1, text2):\n",
    "    if text1 == text2: #Validacion de dos campos que deben ser iguales.\n",
    "        print(\"Correct\")\n",
    "    else:\n",
    "        print(\"Wrong\")\n",
    "\n",
    "\n",
    "validate(password, repeat)"
   ]
  },
  {
   "cell_type": "code",
   "execution_count": null,
   "metadata": {},
   "outputs": [],
   "source": [
    "#hashtag Generator and remove spaces:\n",
    "\n",
    "s = input()\n",
    "\n",
    "def hashtagGen(text):\n",
    "\t#your code goes here\n",
    "\ttext= text.replace(\" \",\"\")\n",
    "\treturn  (\"#\"+text )\n",
    "\n",
    "print(hashtagGen(s))"
   ]
  },
  {
   "cell_type": "markdown",
   "metadata": {},
   "source": [
    "# Exception Try Finally"
   ]
  },
  {
   "cell_type": "code",
   "execution_count": 4,
   "metadata": {},
   "outputs": [
    {
     "name": "stdout",
     "output_type": "stream",
     "text": [
      "Invalid number\n",
      "Have a good day\n"
     ]
    }
   ],
   "source": [
    "#SELECCION DE BEBEIDA EN MAQUINA DISPENSADORA:\n",
    "\n",
    "coffee = [\"Café Latte\", \"Caffe Americano\", \"Espresso\", \"Cappuccino\", \"Macchiato\"]\n",
    "\n",
    "choice = int(input())\n",
    "\n",
    "try:\n",
    "\tprint(coffee[choice])\n",
    "\t\n",
    "except:\n",
    "\t#and here\n",
    "\tprint(\"Invalid number\")\n",
    "finally:\n",
    "\t#and finally here\n",
    "\tprint(\"Have a good day\")"
   ]
  },
  {
   "cell_type": "code",
   "execution_count": 5,
   "metadata": {},
   "outputs": [
    {
     "name": "stdout",
     "output_type": "stream",
     "text": [
      "PIN code is created\n"
     ]
    }
   ],
   "source": [
    "#COMPROBACION DE ENTRADA NUMERICA:\n",
    "pin =input()\n",
    "try:\n",
    "\t#your code goes here\n",
    "\tint(pin)\n",
    "\tprint(\"PIN code is created\")\n",
    "except ValueError:\n",
    "\t#and here\n",
    "\tprint(\"Please enter a number\") "
   ]
  },
  {
   "cell_type": "code",
   "execution_count": null,
   "metadata": {},
   "outputs": [],
   "source": []
  }
 ],
 "metadata": {
  "interpreter": {
   "hash": "ffa1133c21e95c04d090f84f5642658ed9c54c152275f940673cc7d4c15af7c2"
  },
  "kernelspec": {
   "display_name": "Python 3.10.2 64-bit",
   "language": "python",
   "name": "python3"
  },
  "language_info": {
   "codemirror_mode": {
    "name": "ipython",
    "version": 3
   },
   "file_extension": ".py",
   "mimetype": "text/x-python",
   "name": "python",
   "nbconvert_exporter": "python",
   "pygments_lexer": "ipython3",
   "version": "3.10.2"
  },
  "orig_nbformat": 4
 },
 "nbformat": 4,
 "nbformat_minor": 2
}

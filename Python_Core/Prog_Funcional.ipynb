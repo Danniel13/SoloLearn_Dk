{
 "cells": [
  {
   "cell_type": "markdown",
   "metadata": {},
   "source": [
    "# <H1> Functional Programming"
   ]
  },
  {
   "cell_type": "code",
   "execution_count": null,
   "metadata": {},
   "outputs": [],
   "source": [
    "# #Lambdas\n",
    "\n",
    "\n",
    "# The given code takes a number as input and uses a lambda function to calculate its double and output the result.\n",
    "\n",
    "# Change the code to calculate the cube of the input and output it.\n",
    "\n",
    "x = int(input())\n",
    "\n",
    "y = (lambda z:z**3)(x)\n",
    "\n",
    "print(y)"
   ]
  },
  {
   "cell_type": "code",
   "execution_count": null,
   "metadata": {},
   "outputs": [],
   "source": [
    "# filter\n",
    "\n",
    "\n",
    "# Given a list of names, output a list that contains only the names that consist of more than 5 characters.\n",
    "\n",
    "names = [\"David\", \"John\", \"Annabelle\", \"Johnathan\", \"Veronica\"]\n",
    "\n",
    "\n",
    "res = list(filter(lambda x:len(x)>5, names  ))\n",
    "print(res)"
   ]
  },
  {
   "cell_type": "markdown",
   "metadata": {},
   "source": [
    "# Generators"
   ]
  },
  {
   "cell_type": "code",
   "execution_count": 3,
   "metadata": {},
   "outputs": [
    {
     "name": "stdout",
     "output_type": "stream",
     "text": [
      "0\n",
      "2\n",
      "4\n",
      "6\n",
      "8\n",
      "10\n",
      "[1, 3, 5, 7, 9, 11]\n"
     ]
    }
   ],
   "source": [
    "def numbers(x):\n",
    "    for i in range(x):\n",
    "        if i % 2 == 0:\n",
    "            yield i+1 #Guarda en memoria como una lista el resultado del ciclo y lo imprime de la siguiente forma: [1, 3, 5, 7, 9, 11]\n",
    "            print(i)\n",
    "\n",
    "print(list(numbers(11)))"
   ]
  },
  {
   "cell_type": "code",
   "execution_count": 6,
   "metadata": {},
   "outputs": [
    {
     "name": "stdout",
     "output_type": "stream",
     "text": [
      "['l', 'o', 's', ' ', 'p', 'a', 't', 'o', 's', ' ', 'v', 'u', 'e', 'l', 'a', 'n']\n"
     ]
    }
   ],
   "source": [
    "txt = input()\n",
    "\n",
    "def words(var1):\n",
    "    for i in var1:\n",
    "        yield i\n",
    "        # print(i)\n",
    "     \n",
    "print(list(words(txt)))\n"
   ]
  },
  {
   "cell_type": "code",
   "execution_count": 7,
   "metadata": {},
   "outputs": [
    {
     "name": "stdout",
     "output_type": "stream",
     "text": [
      "['los', 'patos', 'vuelan']\n"
     ]
    }
   ],
   "source": [
    "txt = input()\n",
    "\n",
    "def words(var):\n",
    "    #your code goes here\n",
    "    for i in var.split():\n",
    "      yield i\n",
    "\n",
    "print(list(words(txt)))"
   ]
  },
  {
   "cell_type": "code",
   "execution_count": 11,
   "metadata": {},
   "outputs": [
    {
     "name": "stdout",
     "output_type": "stream",
     "text": [
      "['s', 'sp', 'spa', 'spam']\n"
     ]
    }
   ],
   "source": [
    "def make_word():\n",
    "  word = \"\"\n",
    "  for i in \"spam\":\n",
    "    word +=i\n",
    "    yield word\n",
    "\n",
    "print(list(make_word()))"
   ]
  },
  {
   "cell_type": "markdown",
   "metadata": {},
   "source": [
    "# Decorators"
   ]
  },
  {
   "cell_type": "code",
   "execution_count": 12,
   "metadata": {},
   "outputs": [
    {
     "name": "stdout",
     "output_type": "stream",
     "text": [
      "============\n",
      "Hello world!\n",
      "============\n"
     ]
    }
   ],
   "source": [
    "def decor(func):\n",
    "  def wrap():\n",
    "    print(\"============\")\n",
    "    func()\n",
    "    print(\"============\")\n",
    "  return wrap\n",
    "\n",
    "def print_text():\n",
    "  print(\"Hello world!\")\n",
    "\n",
    "decorated = decor(print_text)\n",
    "decorated()"
   ]
  },
  {
   "cell_type": "code",
   "execution_count": 14,
   "metadata": {},
   "outputs": [
    {
     "name": "stdout",
     "output_type": "stream",
     "text": [
      "============\n",
      "Hello world!\n",
      "============\n"
     ]
    }
   ],
   "source": [
    "def decor(func):\n",
    "    def wrap():\n",
    "        print(\"============\")\n",
    "        func()\n",
    "        print(\"============\")\n",
    "    return wrap\n",
    "\n",
    "def print_text():\n",
    "    print(\"Hello world!\")\n",
    "\n",
    "print_text = decor(print_text)\n",
    "\n",
    "print_text()"
   ]
  },
  {
   "cell_type": "code",
   "execution_count": 19,
   "metadata": {},
   "outputs": [
    {
     "name": "stdout",
     "output_type": "stream",
     "text": [
      "============\n",
      "Hello world!\n",
      "============\n"
     ]
    }
   ],
   "source": [
    "def decor(func):\n",
    "    def wrap():\n",
    "        print(\"============\")\n",
    "        func()\n",
    "        print(\"============\")\n",
    "    return wrap\n",
    "\n",
    "@decor\n",
    "def print_text():\n",
    "    print(\"Hello world!\")\n",
    "\n",
    "print_text()"
   ]
  },
  {
   "cell_type": "code",
   "execution_count": 23,
   "metadata": {},
   "outputs": [
    {
     "name": "stdout",
     "output_type": "stream",
     "text": [
      "LOS PATOS\n"
     ]
    }
   ],
   "source": [
    "\n",
    "#Cambiar a mayuscula input 1:\n",
    "text = input()\n",
    "\n",
    "def uppercase_decorator(func):\n",
    "    def wrapper(text):\n",
    "        print(text.upper())\n",
    "\n",
    "    return wrapper\n",
    "    \n",
    "@uppercase_decorator    \n",
    "def display_text(text):\n",
    "    return(text)\n",
    "    \n",
    "(display_text(text))\n"
   ]
  },
  {
   "cell_type": "code",
   "execution_count": 25,
   "metadata": {},
   "outputs": [
    {
     "name": "stdout",
     "output_type": "stream",
     "text": [
      "E AHI \n"
     ]
    }
   ],
   "source": [
    "#Cambiar a mayuscula input 2:\n",
    "\n",
    "text = input()\n",
    "\n",
    "def uppercase_decorator(func):\n",
    "    def wrapper(text):\n",
    "        return func(text.upper())\n",
    "\n",
    "    return wrapper\n",
    "    \n",
    "@uppercase_decorator    \n",
    "def display_text(text):\n",
    "    return(text)\n",
    "    \n",
    "print(display_text(text))\n"
   ]
  },
  {
   "cell_type": "markdown",
   "metadata": {},
   "source": [
    "# RECURSION"
   ]
  },
  {
   "cell_type": "code",
   "execution_count": 1,
   "metadata": {},
   "outputs": [
    {
     "name": "stdout",
     "output_type": "stream",
     "text": [
      "3628800\n"
     ]
    }
   ],
   "source": [
    "#fACTORIAL DE UN NUMERO:\n",
    "\n",
    "def factorial(x):\n",
    "    if x == 1:\n",
    "        return 1\n",
    "    else: \n",
    "        return x * factorial(x-1)\n",
    "\n",
    "print(factorial(10))"
   ]
  }
 ],
 "metadata": {
  "kernelspec": {
   "display_name": "Python 3.10.5 64-bit (windows store)",
   "language": "python",
   "name": "python3"
  },
  "language_info": {
   "codemirror_mode": {
    "name": "ipython",
    "version": 3
   },
   "file_extension": ".py",
   "mimetype": "text/x-python",
   "name": "python",
   "nbconvert_exporter": "python",
   "pygments_lexer": "ipython3",
   "version": "3.10.5"
  },
  "orig_nbformat": 4,
  "vscode": {
   "interpreter": {
    "hash": "35ad21af2f1669bb4ea700a6de09c401bf30109bc04b8f1109b09048848d9555"
   }
  }
 },
 "nbformat": 4,
 "nbformat_minor": 2
}

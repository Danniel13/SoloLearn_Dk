{
 "cells": [
  {
   "cell_type": "markdown",
   "metadata": {},
   "source": [
    "# <H1> Functional Programming"
   ]
  },
  {
   "cell_type": "code",
   "execution_count": null,
   "metadata": {},
   "outputs": [],
   "source": [
    "# #Lambdas\n",
    "\n",
    "\n",
    "# The given code takes a number as input and uses a lambda function to calculate its double and output the result.\n",
    "\n",
    "# Change the code to calculate the cube of the input and output it.\n",
    "\n",
    "x = int(input())\n",
    "\n",
    "y = (lambda z:z**3)(x)\n",
    "\n",
    "print(y)"
   ]
  },
  {
   "cell_type": "code",
   "execution_count": null,
   "metadata": {},
   "outputs": [],
   "source": [
    "# filter\n",
    "\n",
    "\n",
    "# Given a list of names, output a list that contains only the names that consist of more than 5 characters.\n",
    "\n",
    "names = [\"David\", \"John\", \"Annabelle\", \"Johnathan\", \"Veronica\"]\n",
    "\n",
    "\n",
    "res = list(filter(lambda x:len(x)>5, names  ))\n",
    "print(res)"
   ]
  },
  {
   "cell_type": "markdown",
   "metadata": {},
   "source": [
    "# Generators"
   ]
  },
  {
   "cell_type": "code",
   "execution_count": 3,
   "metadata": {},
   "outputs": [
    {
     "name": "stdout",
     "output_type": "stream",
     "text": [
      "0\n",
      "2\n",
      "4\n",
      "6\n",
      "8\n",
      "10\n",
      "[1, 3, 5, 7, 9, 11]\n"
     ]
    }
   ],
   "source": [
    "def numbers(x):\n",
    "    for i in range(x):\n",
    "        if i % 2 == 0:\n",
    "            yield i+1 #Guarda en memoria como una lista el resultado del ciclo y lo imprime de la siguiente forma: [1, 3, 5, 7, 9, 11]\n",
    "            print(i)\n",
    "\n",
    "print(list(numbers(11)))"
   ]
  },
  {
   "cell_type": "code",
   "execution_count": 6,
   "metadata": {},
   "outputs": [
    {
     "name": "stdout",
     "output_type": "stream",
     "text": [
      "['l', 'o', 's', ' ', 'p', 'a', 't', 'o', 's', ' ', 'v', 'u', 'e', 'l', 'a', 'n']\n"
     ]
    }
   ],
   "source": [
    "txt = input()\n",
    "\n",
    "def words(var1):\n",
    "    for i in var1:\n",
    "        yield i\n",
    "        # print(i)\n",
    "     \n",
    "print(list(words(txt)))\n"
   ]
  },
  {
   "cell_type": "code",
   "execution_count": 7,
   "metadata": {},
   "outputs": [
    {
     "name": "stdout",
     "output_type": "stream",
     "text": [
      "['los', 'patos', 'vuelan']\n"
     ]
    }
   ],
   "source": [
    "txt = input()\n",
    "\n",
    "def words(var):\n",
    "    #your code goes here\n",
    "    for i in var.split():\n",
    "      yield i\n",
    "\n",
    "print(list(words(txt)))"
   ]
  },
  {
   "cell_type": "code",
   "execution_count": 11,
   "metadata": {},
   "outputs": [
    {
     "name": "stdout",
     "output_type": "stream",
     "text": [
      "['s', 'sp', 'spa', 'spam']\n"
     ]
    }
   ],
   "source": [
    "def make_word():\n",
    "  word = \"\"\n",
    "  for i in \"spam\":\n",
    "    word +=i\n",
    "    yield word\n",
    "\n",
    "print(list(make_word()))"
   ]
  },
  {
   "cell_type": "markdown",
   "metadata": {},
   "source": [
    "# Decorators"
   ]
  },
  {
   "cell_type": "code",
   "execution_count": 12,
   "metadata": {},
   "outputs": [
    {
     "name": "stdout",
     "output_type": "stream",
     "text": [
      "============\n",
      "Hello world!\n",
      "============\n"
     ]
    }
   ],
   "source": [
    "def decor(func):\n",
    "  def wrap():\n",
    "    print(\"============\")\n",
    "    func()\n",
    "    print(\"============\")\n",
    "  return wrap\n",
    "\n",
    "def print_text():\n",
    "  print(\"Hello world!\")\n",
    "\n",
    "decorated = decor(print_text)\n",
    "decorated()"
   ]
  },
  {
   "cell_type": "code",
   "execution_count": 14,
   "metadata": {},
   "outputs": [
    {
     "name": "stdout",
     "output_type": "stream",
     "text": [
      "============\n",
      "Hello world!\n",
      "============\n"
     ]
    }
   ],
   "source": [
    "def decor(func):\n",
    "    def wrap():\n",
    "        print(\"============\")\n",
    "        func()\n",
    "        print(\"============\")\n",
    "    return wrap\n",
    "\n",
    "def print_text():\n",
    "    print(\"Hello world!\")\n",
    "\n",
    "print_text = decor(print_text)\n",
    "\n",
    "print_text()"
   ]
  },
  {
   "cell_type": "code",
   "execution_count": 19,
   "metadata": {},
   "outputs": [
    {
     "name": "stdout",
     "output_type": "stream",
     "text": [
      "============\n",
      "Hello world!\n",
      "============\n"
     ]
    }
   ],
   "source": [
    "def decor(func):\n",
    "    def wrap():\n",
    "        print(\"============\")\n",
    "        func()\n",
    "        print(\"============\")\n",
    "    return wrap\n",
    "\n",
    "@decor\n",
    "def print_text():\n",
    "    print(\"Hello world!\")\n",
    "\n",
    "print_text()"
   ]
  },
  {
   "cell_type": "code",
   "execution_count": 23,
   "metadata": {},
   "outputs": [
    {
     "name": "stdout",
     "output_type": "stream",
     "text": [
      "LOS PATOS\n"
     ]
    }
   ],
   "source": [
    "\n",
    "#Cambiar a mayuscula input 1:\n",
    "text = input()\n",
    "\n",
    "def uppercase_decorator(func):\n",
    "    def wrapper(text):\n",
    "        print(text.upper())\n",
    "\n",
    "    return wrapper\n",
    "    \n",
    "@uppercase_decorator    \n",
    "def display_text(text):\n",
    "    return(text)\n",
    "    \n",
    "(display_text(text))\n"
   ]
  },
  {
   "cell_type": "code",
   "execution_count": 25,
   "metadata": {},
   "outputs": [
    {
     "name": "stdout",
     "output_type": "stream",
     "text": [
      "E AHI \n"
     ]
    }
   ],
   "source": [
    "#Cambiar a mayuscula input 2:\n",
    "\n",
    "text = input()\n",
    "\n",
    "def uppercase_decorator(func):\n",
    "    def wrapper(text):\n",
    "        return func(text.upper())\n",
    "\n",
    "    return wrapper\n",
    "    \n",
    "@uppercase_decorator    \n",
    "def display_text(text):\n",
    "    return(text)\n",
    "    \n",
    "print(display_text(text))\n"
   ]
  },
  {
   "cell_type": "markdown",
   "metadata": {},
   "source": [
    "# RECURSION"
   ]
  },
  {
   "cell_type": "code",
   "execution_count": 1,
   "metadata": {},
   "outputs": [
    {
     "name": "stdout",
     "output_type": "stream",
     "text": [
      "120\n"
     ]
    }
   ],
   "source": [
    "#fACTORIAL DE UN NUMERO:\n",
    "\n",
    "def factorial(x):\n",
    "    if x == 1:\n",
    "        return 1\n",
    "    else: \n",
    "        return x * factorial(x-1)\n",
    "\n",
    "print(factorial(5))"
   ]
  },
  {
   "cell_type": "code",
   "execution_count": 12,
   "metadata": {},
   "outputs": [
    {
     "name": "stdout",
     "output_type": "stream",
     "text": [
      "55\n"
     ]
    }
   ],
   "source": [
    "#Elevar a la 2 cada uno de los elementos de la lista:\n",
    "def calc(list1):\n",
    "    if len(list1)==0:\n",
    "        return 0\n",
    "    else:\n",
    "        return list1[0] **2 + calc(list1[1:]) \n",
    "\n",
    "list1 = [1, 3, 4, 2, 5]\n",
    "x = calc(list1)        \n",
    "print(x)\n"
   ]
  },
  {
   "cell_type": "code",
   "execution_count": 13,
   "metadata": {},
   "outputs": [
    {
     "name": "stdout",
     "output_type": "stream",
     "text": [
      "5\n"
     ]
    }
   ],
   "source": [
    "def fib(x):\n",
    "  if x == 0 or x == 1:\n",
    "    return 1\n",
    "  else: \n",
    "    return fib(x-1) + fib(x-2)\n",
    "print(fib(4))"
   ]
  },
  {
   "cell_type": "markdown",
   "metadata": {},
   "source": [
    "# Conjuntos:"
   ]
  },
  {
   "cell_type": "code",
   "execution_count": 14,
   "metadata": {},
   "outputs": [
    {
     "name": "stdout",
     "output_type": "stream",
     "text": [
      "True\n",
      "False\n",
      "{'sausage', 'eggs', 'spam'}\n"
     ]
    }
   ],
   "source": [
    "#Validación de datos dentro de conjuntos:\n",
    "num_set = {1, 2, 3, 4, 5}\n",
    "word_set = set([\"spam\", \"eggs\", \"sausage\"])\n",
    "\n",
    "print(3 in num_set)\n",
    "print(\"spam\" not in word_set)\n",
    "\n",
    "\n",
    "print(word_set)"
   ]
  },
  {
   "cell_type": "code",
   "execution_count": 15,
   "metadata": {},
   "outputs": [
    {
     "name": "stdout",
     "output_type": "stream",
     "text": [
      "{1, 2, 3, 4, 5, 6}\n",
      "{1, 2, 4, 5, 6, -7}\n"
     ]
    }
   ],
   "source": [
    "nums = {1, 2, 1, 3, 1, 4, 5, 6} # Definicion conjunto\n",
    "print(nums) #Impresión inicial de conjunto {1, 2, 3, 4, 5, 6}\n",
    "nums.add(-7) # Adición de elemento a conjunto queda al final\n",
    "nums.remove(3) #Eliminación de caracter dentro de conjunto\n",
    "print(nums) # Impresión final de conjunto {1, 2, 4, 5, 6, -7}"
   ]
  },
  {
   "cell_type": "code",
   "execution_count": 16,
   "metadata": {},
   "outputs": [
    {
     "name": "stdout",
     "output_type": "stream",
     "text": [
      "5\n"
     ]
    }
   ],
   "source": [
    "#Imprimir longitud de conjunto:\n",
    "\n",
    "nums = {\"a\", \"b\", \"c\", \"d\"}\n",
    "nums.add(\"z\")\n",
    "print(len(nums))"
   ]
  },
  {
   "cell_type": "code",
   "execution_count": 19,
   "metadata": {},
   "outputs": [
    {
     "name": "stdout",
     "output_type": "stream",
     "text": [
      "{1, 2, 3, 4, 5, 6, 7, 8, 9}\n",
      "{4, 5, 6}\n",
      "{1, 2, 3}\n",
      "{8, 9, 7}\n",
      "{1, 2, 3, 7, 8, 9}\n"
     ]
    }
   ],
   "source": [
    "# Set Operators\n",
    "\n",
    "# Sets\n",
    "\n",
    "\n",
    "# Sets can be combined using mathematical operations.\n",
    "# The union operator | combines two sets to form a new one containing items in either.\n",
    "# The intersection operator & gets items only in both.\n",
    "# The difference operator - gets items in the first set but not in the second.\n",
    "# The symmetric difference operator ^ gets items in either set, but not both.\n",
    "\n",
    "\n",
    "\n",
    "first = {1, 2, 3, 4, 5, 6}\n",
    "second = {4, 5, 6, 7, 8, 9}\n",
    "\n",
    "print(first | second) #Union de conjuntos\n",
    "print(first & second) #Intersección: Trae elementos en comun\n",
    "print(first - second) #Diferencica: Obtiene elementos que estan en el primer conjunto pero en el segundo no\n",
    "print(second - first) #Diferencica: Obtiene elementos que estan en el Segundo conjunto pero en el primero no\n",
    "print(first ^ second) #Diferencia simetrica: Obtiene los elementos no tienen en comun los dos conjuntos"
   ]
  },
  {
   "cell_type": "markdown",
   "metadata": {},
   "source": [
    "# Itertools"
   ]
  },
  {
   "cell_type": "code",
   "execution_count": 20,
   "metadata": {},
   "outputs": [
    {
     "name": "stdout",
     "output_type": "stream",
     "text": [
      "3\n",
      "4\n",
      "5\n",
      "6\n",
      "7\n",
      "8\n",
      "9\n",
      "10\n",
      "11\n"
     ]
    }
   ],
   "source": [
    "from itertools import count\n",
    "\n",
    "for i in count(3):\n",
    "    print(i)\n",
    "    if i >=11:\n",
    "        break"
   ]
  },
  {
   "cell_type": "code",
   "execution_count": 31,
   "metadata": {},
   "outputs": [
    {
     "name": "stdout",
     "output_type": "stream",
     "text": [
      "[0, 1, 3, 6, 10, 15, 21, 28]\n",
      "[0, 1, 3, 6]\n"
     ]
    }
   ],
   "source": [
    "from itertools import accumulate, takewhile\n",
    "\n",
    "nums = list(accumulate(range(8))) # Suma el resultado hasta que termina el rango : 0+0=0 0+1=1 1+2=3 3+3=6 6+4=10 10+5=15 15+6=21 \"21+7=28\"\n",
    "print(nums)\n",
    "print(list(takewhile(lambda x: x<= 6, nums)))"
   ]
  },
  {
   "cell_type": "code",
   "execution_count": 52,
   "metadata": {},
   "outputs": [
    {
     "name": "stdout",
     "output_type": "stream",
     "text": [
      "[2, 4, 6]\n"
     ]
    }
   ],
   "source": [
    "#Even numbers from list:\n",
    "#Con takewhile va a comprobar elemento por elemento de la lista hasta que se vuelva negativo, ahi rompera el ciclo\n",
    "\n",
    "from itertools import takewhile\n",
    "nums = [2, 4, 6, 7, 9, 8]\n",
    "a= takewhile(lambda x: x%2 ==0,nums)\n",
    "print(list(a))"
   ]
  },
  {
   "cell_type": "code",
   "execution_count": 53,
   "metadata": {},
   "outputs": [
    {
     "name": "stdout",
     "output_type": "stream",
     "text": [
      "2\n",
      "4\n",
      "6\n",
      "8\n"
     ]
    }
   ],
   "source": [
    "nums2 = [2, 4, 6, 7, 9, 8]\n",
    "\n",
    "for i in nums2:\n",
    "  if i %2 ==  0:\n",
    "    lista2 = i\n",
    "    print((lista2))"
   ]
  },
  {
   "cell_type": "code",
   "execution_count": 57,
   "metadata": {},
   "outputs": [
    {
     "name": "stdout",
     "output_type": "stream",
     "text": [
      "[('A', 0), ('A', 1), ('A', 2), ('A', 3), ('A', 4), ('A', 5), ('A', 6), ('A', 7), ('A', 8), ('A', 9), ('B', 0), ('B', 1), ('B', 2), ('B', 3), ('B', 4), ('B', 5), ('B', 6), ('B', 7), ('B', 8), ('B', 9)]\n",
      "[('A', 'B'), ('B', 'A')]\n"
     ]
    }
   ],
   "source": [
    "from itertools import product, permutations\n",
    "\n",
    "letters = (\"A\", \"B\")\n",
    "print(list(product(letters, range(10))))\n",
    "print(list(permutations(letters))) "
   ]
  },
  {
   "cell_type": "code",
   "execution_count": 58,
   "metadata": {},
   "outputs": [
    {
     "name": "stdout",
     "output_type": "stream",
     "text": [
      "[('x', 'y'), ('y', 'x')]\n"
     ]
    }
   ],
   "source": [
    "# Imprimir todas las posibles combinaciones de una lista:\n",
    "\n",
    "from itertools import permutations\n",
    "\n",
    "items = ['x', 'y']\n",
    "\n",
    "\n",
    "print(list(permutations(items)))\n"
   ]
  },
  {
   "cell_type": "code",
   "execution_count": 60,
   "metadata": {},
   "outputs": [
    {
     "name": "stdout",
     "output_type": "stream",
     "text": [
      "6\n"
     ]
    }
   ],
   "source": [
    "from itertools import product\n",
    "a={1, 2}\n",
    "print(len(list(product(range(3), a))))"
   ]
  },
  {
   "cell_type": "code",
   "execution_count": 61,
   "metadata": {},
   "outputs": [
    {
     "name": "stdout",
     "output_type": "stream",
     "text": [
      "2\n"
     ]
    }
   ],
   "source": [
    "nums = {1, 2, 3, 4, 5, 6} #Definicion lista inicial\n",
    "nums = {0, 1, 2, 3} & nums #intersección entre nums nuevo y lista inicial\n",
    "nums = filter(lambda x: x > 1, nums)#Filter: Traida de numeros que cumplen con la lambda\n",
    "print(len(list(nums)))#Len para contar la cantidad de caracteres de la lista de nums final: 2\n",
    "\n",
    "\n"
   ]
  },
  {
   "cell_type": "code",
   "execution_count": 62,
   "metadata": {},
   "outputs": [
    {
     "name": "stdout",
     "output_type": "stream",
     "text": [
      "8\n"
     ]
    }
   ],
   "source": [
    "def power(x, y):\n",
    "  if y == 0:\n",
    "    return 1\n",
    "  else:\n",
    "    return x * power(x, y-1)\n",
    "\t\t\n",
    "print(power(2, 3))\n",
    "\n",
    "# power(2,3)= 2*power(2,2)= 2*2*power(2,1)= 2*2*2*power (2,0)= 2*2*2*1=8"
   ]
  },
  {
   "cell_type": "code",
   "execution_count": 65,
   "metadata": {},
   "outputs": [
    {
     "name": "stdout",
     "output_type": "stream",
     "text": [
      "42\n"
     ]
    }
   ],
   "source": [
    "a = ( lambda x: x* (x+1)) (6)\n",
    "print(a)"
   ]
  },
  {
   "cell_type": "code",
   "execution_count": 67,
   "metadata": {},
   "outputs": [
    {
     "name": "stdout",
     "output_type": "stream",
     "text": [
      "[2, 8]\n"
     ]
    }
   ],
   "source": [
    "#Numeros pares de una lista:\n",
    "nums = [1, 2, 8, 3, 7]\n",
    "\n",
    "res = list(filter(lambda x: x%2==0, nums))\n",
    "\n",
    "print(res)"
   ]
  }
 ],
 "metadata": {
  "kernelspec": {
   "display_name": "Python 3.10.5 64-bit (windows store)",
   "language": "python",
   "name": "python3"
  },
  "language_info": {
   "codemirror_mode": {
    "name": "ipython",
    "version": 3
   },
   "file_extension": ".py",
   "mimetype": "text/x-python",
   "name": "python",
   "nbconvert_exporter": "python",
   "pygments_lexer": "ipython3",
   "version": "3.10.5"
  },
  "orig_nbformat": 4,
  "vscode": {
   "interpreter": {
    "hash": "35ad21af2f1669bb4ea700a6de09c401bf30109bc04b8f1109b09048848d9555"
   }
  }
 },
 "nbformat": 4,
 "nbformat_minor": 2
}
